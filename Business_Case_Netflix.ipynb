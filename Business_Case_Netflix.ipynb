{
  "nbformat": 4,
  "nbformat_minor": 0,
  "metadata": {
    "colab": {
      "provenance": []
    },
    "kernelspec": {
      "name": "python3",
      "display_name": "Python 3"
    },
    "language_info": {
      "name": "python"
    }
  },
  "cells": [
    {
      "cell_type": "markdown",
      "source": [
        "### Problem Statement\n",
        "\n",
        "Netflix is a leading streaming service that offers a wide variety of TV shows, movies, anime, documentaries, and more on thousands of internet-connected devices. Understanding the data behind Netflix's vast content library can provide valuable insights for business decisions. The goal of this analysis is to uncover patterns and trends in the Netflix dataset to help inform content strategy, user engagement, and regional preferences.\n",
        "\n",
        "### Objectives:\n",
        "\n",
        "1. Analyze the basic metrics of the dataset.\n",
        "2. Understand the distribution and characteristics of the data.\n",
        "3. Identify patterns and trends in the data.\n",
        "4. Provide actionable business insights based on the analysis.\n",
        "\n",
        "## Basic Metrics\n",
        "We'll focus on:\n",
        "\n",
        "1. **Distribution of movies vs. TV shows:** Understanding the proportion of movies and TV shows in the dataset.\n",
        "\n",
        "2. **Popular genres and their distribution across countries:** Analyzing which genres are most prevalent and how they vary by country.\n",
        "\n",
        "3. **Trends in release years and how they correlate with content popularity:** Examining the number of releases over time and any correlations with viewer ratings or popularity metrics.\n",
        "\n",
        "4. **Impact of directors and actors on viewer engagement:** Investigating whether certain directors or actors tend to be associated with higher-rated content.\n",
        "\n",
        "5. **Netflix's focus on TV shows vs. movies in recent years:** Determining if there has been a shift in Netflix's content strategy towards producing more TV shows or movies in recent years."
      ],
      "metadata": {
        "id": "k8pC-keHEnvH"
      }
    },
    {
      "cell_type": "markdown",
      "source": [
        "## **Observations on the Shape of Data, Data Types, Conversion, Missing Values, and Statistical Summary**\n",
        "\n",
        "**Shape of Data:**\n",
        "\n",
        "-> Begin by stating the dimensions of the dataset (number of rows and columns).\n",
        "\n",
        "**Data Types of All Attributes:**\n",
        "\n",
        "-> Discuss the types of data each column contains, emphasizing any conversions made to optimize data types.\n",
        "\n",
        "**Conversion of Categorical Attributes:**\n",
        "\n",
        "-> Explain the rationale for converting categorical columns to the 'category' data type and its benefits.\n",
        "\n",
        "**Missing Value Detection and Handling:**\n",
        "\n",
        "-> Describe the process of identifying and handling missing values, including the strategies used for imputation (if any).\n",
        "\n",
        "**Statistical Summary:**\n",
        "\n",
        "-> Summarize the basic statistics computed for numerical attributes and categorical distributions."
      ],
      "metadata": {
        "id": "Io9pO3z9Hfi0"
      }
    },
    {
      "cell_type": "code",
      "source": [
        "#Import the necessary Libraries\n",
        "\n",
        "import pandas as pd\n",
        "import numpy as np\n",
        "\n",
        "data = pd.read_csv(\"netflix.csv\")"
      ],
      "metadata": {
        "id": "sFUz9jz-SxJO"
      },
      "execution_count": null,
      "outputs": []
    },
    {
      "cell_type": "code",
      "source": [
        "# Display basic details about the dataset\n",
        "print(\"Basic Information about the Dataset:\\n\")\n",
        "data_info = data.info()\n",
        "print(data_info)\n",
        "\n"
      ],
      "metadata": {
        "colab": {
          "base_uri": "https://localhost:8080/"
        },
        "id": "53EcykLzhZEi",
        "outputId": "03d4011a-76a4-4a95-dcbb-deb5792942de"
      },
      "execution_count": null,
      "outputs": [
        {
          "output_type": "stream",
          "name": "stdout",
          "text": [
            "Basic Information about the Dataset:\n",
            "\n",
            "<class 'pandas.core.frame.DataFrame'>\n",
            "RangeIndex: 8807 entries, 0 to 8806\n",
            "Data columns (total 12 columns):\n",
            " #   Column        Non-Null Count  Dtype \n",
            "---  ------        --------------  ----- \n",
            " 0   show_id       8807 non-null   object\n",
            " 1   type          8807 non-null   object\n",
            " 2   title         8807 non-null   object\n",
            " 3   director      6173 non-null   object\n",
            " 4   cast          7982 non-null   object\n",
            " 5   country       7976 non-null   object\n",
            " 6   date_added    8797 non-null   object\n",
            " 7   release_year  8807 non-null   int64 \n",
            " 8   rating        8803 non-null   object\n",
            " 9   duration      8804 non-null   object\n",
            " 10  listed_in     8807 non-null   object\n",
            " 11  description   8807 non-null   object\n",
            "dtypes: int64(1), object(11)\n",
            "memory usage: 825.8+ KB\n",
            "None\n"
          ]
        }
      ]
    },
    {
      "cell_type": "code",
      "source": [
        "# Display the shape of the dataset\n",
        "data_shape = data.shape\n",
        "print(\"\\nShape of the Dataset:\")\n",
        "print(data_shape)\n",
        "\n"
      ],
      "metadata": {
        "colab": {
          "base_uri": "https://localhost:8080/"
        },
        "id": "8VY1saoSiUxt",
        "outputId": "2de880bd-88c4-4b12-90f3-22c65dc2306e"
      },
      "execution_count": null,
      "outputs": [
        {
          "output_type": "stream",
          "name": "stdout",
          "text": [
            "\n",
            "Shape of the Dataset:\n",
            "(8807, 12)\n"
          ]
        }
      ]
    },
    {
      "cell_type": "code",
      "source": [
        "# Display the first few rows of the dataset\n",
        "print(\"\\nFirst 5 Rows of the Dataset:\")\n",
        "data.head()"
      ],
      "metadata": {
        "colab": {
          "base_uri": "https://localhost:8080/",
          "height": 537
        },
        "id": "9rpM5u93iXFU",
        "outputId": "050e6674-76d2-4626-8434-3731b1c6ce9e"
      },
      "execution_count": null,
      "outputs": [
        {
          "output_type": "stream",
          "name": "stdout",
          "text": [
            "\n",
            "First 5 Rows of the Dataset:\n"
          ]
        },
        {
          "output_type": "execute_result",
          "data": {
            "text/plain": [
              "  show_id     type                  title         director  \\\n",
              "0      s1    Movie   Dick Johnson Is Dead  Kirsten Johnson   \n",
              "1      s2  TV Show          Blood & Water              NaN   \n",
              "2      s3  TV Show              Ganglands  Julien Leclercq   \n",
              "3      s4  TV Show  Jailbirds New Orleans              NaN   \n",
              "4      s5  TV Show           Kota Factory              NaN   \n",
              "\n",
              "                                                cast        country  \\\n",
              "0                                                NaN  United States   \n",
              "1  Ama Qamata, Khosi Ngema, Gail Mabalane, Thaban...   South Africa   \n",
              "2  Sami Bouajila, Tracy Gotoas, Samuel Jouy, Nabi...            NaN   \n",
              "3                                                NaN            NaN   \n",
              "4  Mayur More, Jitendra Kumar, Ranjan Raj, Alam K...          India   \n",
              "\n",
              "           date_added  release_year rating   duration  \\\n",
              "0  September 25, 2021          2020  PG-13     90 min   \n",
              "1  September 24, 2021          2021  TV-MA  2 Seasons   \n",
              "2  September 24, 2021          2021  TV-MA   1 Season   \n",
              "3  September 24, 2021          2021  TV-MA   1 Season   \n",
              "4  September 24, 2021          2021  TV-MA  2 Seasons   \n",
              "\n",
              "                                           listed_in  \\\n",
              "0                                      Documentaries   \n",
              "1    International TV Shows, TV Dramas, TV Mysteries   \n",
              "2  Crime TV Shows, International TV Shows, TV Act...   \n",
              "3                             Docuseries, Reality TV   \n",
              "4  International TV Shows, Romantic TV Shows, TV ...   \n",
              "\n",
              "                                         description  \n",
              "0  As her father nears the end of his life, filmm...  \n",
              "1  After crossing paths at a party, a Cape Town t...  \n",
              "2  To protect his family from a powerful drug lor...  \n",
              "3  Feuds, flirtations and toilet talk go down amo...  \n",
              "4  In a city of coaching centers known to train I...  "
            ],
            "text/html": [
              "\n",
              "  <div id=\"df-93dc0a91-4da5-433b-9725-4cf2bdfd228a\" class=\"colab-df-container\">\n",
              "    <div>\n",
              "<style scoped>\n",
              "    .dataframe tbody tr th:only-of-type {\n",
              "        vertical-align: middle;\n",
              "    }\n",
              "\n",
              "    .dataframe tbody tr th {\n",
              "        vertical-align: top;\n",
              "    }\n",
              "\n",
              "    .dataframe thead th {\n",
              "        text-align: right;\n",
              "    }\n",
              "</style>\n",
              "<table border=\"1\" class=\"dataframe\">\n",
              "  <thead>\n",
              "    <tr style=\"text-align: right;\">\n",
              "      <th></th>\n",
              "      <th>show_id</th>\n",
              "      <th>type</th>\n",
              "      <th>title</th>\n",
              "      <th>director</th>\n",
              "      <th>cast</th>\n",
              "      <th>country</th>\n",
              "      <th>date_added</th>\n",
              "      <th>release_year</th>\n",
              "      <th>rating</th>\n",
              "      <th>duration</th>\n",
              "      <th>listed_in</th>\n",
              "      <th>description</th>\n",
              "    </tr>\n",
              "  </thead>\n",
              "  <tbody>\n",
              "    <tr>\n",
              "      <th>0</th>\n",
              "      <td>s1</td>\n",
              "      <td>Movie</td>\n",
              "      <td>Dick Johnson Is Dead</td>\n",
              "      <td>Kirsten Johnson</td>\n",
              "      <td>NaN</td>\n",
              "      <td>United States</td>\n",
              "      <td>September 25, 2021</td>\n",
              "      <td>2020</td>\n",
              "      <td>PG-13</td>\n",
              "      <td>90 min</td>\n",
              "      <td>Documentaries</td>\n",
              "      <td>As her father nears the end of his life, filmm...</td>\n",
              "    </tr>\n",
              "    <tr>\n",
              "      <th>1</th>\n",
              "      <td>s2</td>\n",
              "      <td>TV Show</td>\n",
              "      <td>Blood &amp; Water</td>\n",
              "      <td>NaN</td>\n",
              "      <td>Ama Qamata, Khosi Ngema, Gail Mabalane, Thaban...</td>\n",
              "      <td>South Africa</td>\n",
              "      <td>September 24, 2021</td>\n",
              "      <td>2021</td>\n",
              "      <td>TV-MA</td>\n",
              "      <td>2 Seasons</td>\n",
              "      <td>International TV Shows, TV Dramas, TV Mysteries</td>\n",
              "      <td>After crossing paths at a party, a Cape Town t...</td>\n",
              "    </tr>\n",
              "    <tr>\n",
              "      <th>2</th>\n",
              "      <td>s3</td>\n",
              "      <td>TV Show</td>\n",
              "      <td>Ganglands</td>\n",
              "      <td>Julien Leclercq</td>\n",
              "      <td>Sami Bouajila, Tracy Gotoas, Samuel Jouy, Nabi...</td>\n",
              "      <td>NaN</td>\n",
              "      <td>September 24, 2021</td>\n",
              "      <td>2021</td>\n",
              "      <td>TV-MA</td>\n",
              "      <td>1 Season</td>\n",
              "      <td>Crime TV Shows, International TV Shows, TV Act...</td>\n",
              "      <td>To protect his family from a powerful drug lor...</td>\n",
              "    </tr>\n",
              "    <tr>\n",
              "      <th>3</th>\n",
              "      <td>s4</td>\n",
              "      <td>TV Show</td>\n",
              "      <td>Jailbirds New Orleans</td>\n",
              "      <td>NaN</td>\n",
              "      <td>NaN</td>\n",
              "      <td>NaN</td>\n",
              "      <td>September 24, 2021</td>\n",
              "      <td>2021</td>\n",
              "      <td>TV-MA</td>\n",
              "      <td>1 Season</td>\n",
              "      <td>Docuseries, Reality TV</td>\n",
              "      <td>Feuds, flirtations and toilet talk go down amo...</td>\n",
              "    </tr>\n",
              "    <tr>\n",
              "      <th>4</th>\n",
              "      <td>s5</td>\n",
              "      <td>TV Show</td>\n",
              "      <td>Kota Factory</td>\n",
              "      <td>NaN</td>\n",
              "      <td>Mayur More, Jitendra Kumar, Ranjan Raj, Alam K...</td>\n",
              "      <td>India</td>\n",
              "      <td>September 24, 2021</td>\n",
              "      <td>2021</td>\n",
              "      <td>TV-MA</td>\n",
              "      <td>2 Seasons</td>\n",
              "      <td>International TV Shows, Romantic TV Shows, TV ...</td>\n",
              "      <td>In a city of coaching centers known to train I...</td>\n",
              "    </tr>\n",
              "  </tbody>\n",
              "</table>\n",
              "</div>\n",
              "    <div class=\"colab-df-buttons\">\n",
              "\n",
              "  <div class=\"colab-df-container\">\n",
              "    <button class=\"colab-df-convert\" onclick=\"convertToInteractive('df-93dc0a91-4da5-433b-9725-4cf2bdfd228a')\"\n",
              "            title=\"Convert this dataframe to an interactive table.\"\n",
              "            style=\"display:none;\">\n",
              "\n",
              "  <svg xmlns=\"http://www.w3.org/2000/svg\" height=\"24px\" viewBox=\"0 -960 960 960\">\n",
              "    <path d=\"M120-120v-720h720v720H120Zm60-500h600v-160H180v160Zm220 220h160v-160H400v160Zm0 220h160v-160H400v160ZM180-400h160v-160H180v160Zm440 0h160v-160H620v160ZM180-180h160v-160H180v160Zm440 0h160v-160H620v160Z\"/>\n",
              "  </svg>\n",
              "    </button>\n",
              "\n",
              "  <style>\n",
              "    .colab-df-container {\n",
              "      display:flex;\n",
              "      gap: 12px;\n",
              "    }\n",
              "\n",
              "    .colab-df-convert {\n",
              "      background-color: #E8F0FE;\n",
              "      border: none;\n",
              "      border-radius: 50%;\n",
              "      cursor: pointer;\n",
              "      display: none;\n",
              "      fill: #1967D2;\n",
              "      height: 32px;\n",
              "      padding: 0 0 0 0;\n",
              "      width: 32px;\n",
              "    }\n",
              "\n",
              "    .colab-df-convert:hover {\n",
              "      background-color: #E2EBFA;\n",
              "      box-shadow: 0px 1px 2px rgba(60, 64, 67, 0.3), 0px 1px 3px 1px rgba(60, 64, 67, 0.15);\n",
              "      fill: #174EA6;\n",
              "    }\n",
              "\n",
              "    .colab-df-buttons div {\n",
              "      margin-bottom: 4px;\n",
              "    }\n",
              "\n",
              "    [theme=dark] .colab-df-convert {\n",
              "      background-color: #3B4455;\n",
              "      fill: #D2E3FC;\n",
              "    }\n",
              "\n",
              "    [theme=dark] .colab-df-convert:hover {\n",
              "      background-color: #434B5C;\n",
              "      box-shadow: 0px 1px 3px 1px rgba(0, 0, 0, 0.15);\n",
              "      filter: drop-shadow(0px 1px 2px rgba(0, 0, 0, 0.3));\n",
              "      fill: #FFFFFF;\n",
              "    }\n",
              "  </style>\n",
              "\n",
              "    <script>\n",
              "      const buttonEl =\n",
              "        document.querySelector('#df-93dc0a91-4da5-433b-9725-4cf2bdfd228a button.colab-df-convert');\n",
              "      buttonEl.style.display =\n",
              "        google.colab.kernel.accessAllowed ? 'block' : 'none';\n",
              "\n",
              "      async function convertToInteractive(key) {\n",
              "        const element = document.querySelector('#df-93dc0a91-4da5-433b-9725-4cf2bdfd228a');\n",
              "        const dataTable =\n",
              "          await google.colab.kernel.invokeFunction('convertToInteractive',\n",
              "                                                    [key], {});\n",
              "        if (!dataTable) return;\n",
              "\n",
              "        const docLinkHtml = 'Like what you see? Visit the ' +\n",
              "          '<a target=\"_blank\" href=https://colab.research.google.com/notebooks/data_table.ipynb>data table notebook</a>'\n",
              "          + ' to learn more about interactive tables.';\n",
              "        element.innerHTML = '';\n",
              "        dataTable['output_type'] = 'display_data';\n",
              "        await google.colab.output.renderOutput(dataTable, element);\n",
              "        const docLink = document.createElement('div');\n",
              "        docLink.innerHTML = docLinkHtml;\n",
              "        element.appendChild(docLink);\n",
              "      }\n",
              "    </script>\n",
              "  </div>\n",
              "\n",
              "\n",
              "<div id=\"df-45e0ff1c-c033-480f-8667-bef8a7b2c2d8\">\n",
              "  <button class=\"colab-df-quickchart\" onclick=\"quickchart('df-45e0ff1c-c033-480f-8667-bef8a7b2c2d8')\"\n",
              "            title=\"Suggest charts\"\n",
              "            style=\"display:none;\">\n",
              "\n",
              "<svg xmlns=\"http://www.w3.org/2000/svg\" height=\"24px\"viewBox=\"0 0 24 24\"\n",
              "     width=\"24px\">\n",
              "    <g>\n",
              "        <path d=\"M19 3H5c-1.1 0-2 .9-2 2v14c0 1.1.9 2 2 2h14c1.1 0 2-.9 2-2V5c0-1.1-.9-2-2-2zM9 17H7v-7h2v7zm4 0h-2V7h2v10zm4 0h-2v-4h2v4z\"/>\n",
              "    </g>\n",
              "</svg>\n",
              "  </button>\n",
              "\n",
              "<style>\n",
              "  .colab-df-quickchart {\n",
              "      --bg-color: #E8F0FE;\n",
              "      --fill-color: #1967D2;\n",
              "      --hover-bg-color: #E2EBFA;\n",
              "      --hover-fill-color: #174EA6;\n",
              "      --disabled-fill-color: #AAA;\n",
              "      --disabled-bg-color: #DDD;\n",
              "  }\n",
              "\n",
              "  [theme=dark] .colab-df-quickchart {\n",
              "      --bg-color: #3B4455;\n",
              "      --fill-color: #D2E3FC;\n",
              "      --hover-bg-color: #434B5C;\n",
              "      --hover-fill-color: #FFFFFF;\n",
              "      --disabled-bg-color: #3B4455;\n",
              "      --disabled-fill-color: #666;\n",
              "  }\n",
              "\n",
              "  .colab-df-quickchart {\n",
              "    background-color: var(--bg-color);\n",
              "    border: none;\n",
              "    border-radius: 50%;\n",
              "    cursor: pointer;\n",
              "    display: none;\n",
              "    fill: var(--fill-color);\n",
              "    height: 32px;\n",
              "    padding: 0;\n",
              "    width: 32px;\n",
              "  }\n",
              "\n",
              "  .colab-df-quickchart:hover {\n",
              "    background-color: var(--hover-bg-color);\n",
              "    box-shadow: 0 1px 2px rgba(60, 64, 67, 0.3), 0 1px 3px 1px rgba(60, 64, 67, 0.15);\n",
              "    fill: var(--button-hover-fill-color);\n",
              "  }\n",
              "\n",
              "  .colab-df-quickchart-complete:disabled,\n",
              "  .colab-df-quickchart-complete:disabled:hover {\n",
              "    background-color: var(--disabled-bg-color);\n",
              "    fill: var(--disabled-fill-color);\n",
              "    box-shadow: none;\n",
              "  }\n",
              "\n",
              "  .colab-df-spinner {\n",
              "    border: 2px solid var(--fill-color);\n",
              "    border-color: transparent;\n",
              "    border-bottom-color: var(--fill-color);\n",
              "    animation:\n",
              "      spin 1s steps(1) infinite;\n",
              "  }\n",
              "\n",
              "  @keyframes spin {\n",
              "    0% {\n",
              "      border-color: transparent;\n",
              "      border-bottom-color: var(--fill-color);\n",
              "      border-left-color: var(--fill-color);\n",
              "    }\n",
              "    20% {\n",
              "      border-color: transparent;\n",
              "      border-left-color: var(--fill-color);\n",
              "      border-top-color: var(--fill-color);\n",
              "    }\n",
              "    30% {\n",
              "      border-color: transparent;\n",
              "      border-left-color: var(--fill-color);\n",
              "      border-top-color: var(--fill-color);\n",
              "      border-right-color: var(--fill-color);\n",
              "    }\n",
              "    40% {\n",
              "      border-color: transparent;\n",
              "      border-right-color: var(--fill-color);\n",
              "      border-top-color: var(--fill-color);\n",
              "    }\n",
              "    60% {\n",
              "      border-color: transparent;\n",
              "      border-right-color: var(--fill-color);\n",
              "    }\n",
              "    80% {\n",
              "      border-color: transparent;\n",
              "      border-right-color: var(--fill-color);\n",
              "      border-bottom-color: var(--fill-color);\n",
              "    }\n",
              "    90% {\n",
              "      border-color: transparent;\n",
              "      border-bottom-color: var(--fill-color);\n",
              "    }\n",
              "  }\n",
              "</style>\n",
              "\n",
              "  <script>\n",
              "    async function quickchart(key) {\n",
              "      const quickchartButtonEl =\n",
              "        document.querySelector('#' + key + ' button');\n",
              "      quickchartButtonEl.disabled = true;  // To prevent multiple clicks.\n",
              "      quickchartButtonEl.classList.add('colab-df-spinner');\n",
              "      try {\n",
              "        const charts = await google.colab.kernel.invokeFunction(\n",
              "            'suggestCharts', [key], {});\n",
              "      } catch (error) {\n",
              "        console.error('Error during call to suggestCharts:', error);\n",
              "      }\n",
              "      quickchartButtonEl.classList.remove('colab-df-spinner');\n",
              "      quickchartButtonEl.classList.add('colab-df-quickchart-complete');\n",
              "    }\n",
              "    (() => {\n",
              "      let quickchartButtonEl =\n",
              "        document.querySelector('#df-45e0ff1c-c033-480f-8667-bef8a7b2c2d8 button');\n",
              "      quickchartButtonEl.style.display =\n",
              "        google.colab.kernel.accessAllowed ? 'block' : 'none';\n",
              "    })();\n",
              "  </script>\n",
              "</div>\n",
              "\n",
              "    </div>\n",
              "  </div>\n"
            ],
            "application/vnd.google.colaboratory.intrinsic+json": {
              "type": "dataframe",
              "variable_name": "data",
              "summary": "{\n  \"name\": \"data\",\n  \"rows\": 8807,\n  \"fields\": [\n    {\n      \"column\": \"show_id\",\n      \"properties\": {\n        \"dtype\": \"string\",\n        \"num_unique_values\": 8807,\n        \"samples\": [\n          \"s4971\",\n          \"s3363\",\n          \"s5495\"\n        ],\n        \"semantic_type\": \"\",\n        \"description\": \"\"\n      }\n    },\n    {\n      \"column\": \"type\",\n      \"properties\": {\n        \"dtype\": \"category\",\n        \"num_unique_values\": 2,\n        \"samples\": [\n          \"TV Show\",\n          \"Movie\"\n        ],\n        \"semantic_type\": \"\",\n        \"description\": \"\"\n      }\n    },\n    {\n      \"column\": \"title\",\n      \"properties\": {\n        \"dtype\": \"string\",\n        \"num_unique_values\": 8807,\n        \"samples\": [\n          \"Game Over, Man!\",\n          \"Arsenio Hall: Smart & Classy\"\n        ],\n        \"semantic_type\": \"\",\n        \"description\": \"\"\n      }\n    },\n    {\n      \"column\": \"director\",\n      \"properties\": {\n        \"dtype\": \"string\",\n        \"num_unique_values\": 4528,\n        \"samples\": [\n          \"Kanwal Sethi\",\n          \"R\\u00e9my Four, Julien War\"\n        ],\n        \"semantic_type\": \"\",\n        \"description\": \"\"\n      }\n    },\n    {\n      \"column\": \"cast\",\n      \"properties\": {\n        \"dtype\": \"string\",\n        \"num_unique_values\": 7692,\n        \"samples\": [\n          \"Tzi Ma, Christine Ko, Hong-Chi Lee, Hayden Szeto, Kunjue Li, Fiona Fu, James Saito, Joan Chen\",\n          \"Priyanshu Painyuli, Chandrachoor Rai, Shadab Kamal, Rajeev Siddhartha, Sheetal Thakur, Ninad Kamat, Swati Semwal, Eijaz Khan\"\n        ],\n        \"semantic_type\": \"\",\n        \"description\": \"\"\n      }\n    },\n    {\n      \"column\": \"country\",\n      \"properties\": {\n        \"dtype\": \"category\",\n        \"num_unique_values\": 748,\n        \"samples\": [\n          \"United States, United Kingdom, Denmark, Sweden\",\n          \"United Kingdom, Hong Kong\"\n        ],\n        \"semantic_type\": \"\",\n        \"description\": \"\"\n      }\n    },\n    {\n      \"column\": \"date_added\",\n      \"properties\": {\n        \"dtype\": \"category\",\n        \"num_unique_values\": 1767,\n        \"samples\": [\n          \"October 22, 2018\",\n          \"January 29, 2021\"\n        ],\n        \"semantic_type\": \"\",\n        \"description\": \"\"\n      }\n    },\n    {\n      \"column\": \"release_year\",\n      \"properties\": {\n        \"dtype\": \"number\",\n        \"std\": 8,\n        \"min\": 1925,\n        \"max\": 2021,\n        \"num_unique_values\": 74,\n        \"samples\": [\n          1996,\n          1969\n        ],\n        \"semantic_type\": \"\",\n        \"description\": \"\"\n      }\n    },\n    {\n      \"column\": \"rating\",\n      \"properties\": {\n        \"dtype\": \"category\",\n        \"num_unique_values\": 17,\n        \"samples\": [\n          \"PG-13\",\n          \"TV-MA\"\n        ],\n        \"semantic_type\": \"\",\n        \"description\": \"\"\n      }\n    },\n    {\n      \"column\": \"duration\",\n      \"properties\": {\n        \"dtype\": \"category\",\n        \"num_unique_values\": 220,\n        \"samples\": [\n          \"37 min\",\n          \"177 min\"\n        ],\n        \"semantic_type\": \"\",\n        \"description\": \"\"\n      }\n    },\n    {\n      \"column\": \"listed_in\",\n      \"properties\": {\n        \"dtype\": \"category\",\n        \"num_unique_values\": 514,\n        \"samples\": [\n          \"Crime TV Shows, International TV Shows, TV Mysteries\",\n          \"Children & Family Movies, Classic Movies, Dramas\"\n        ],\n        \"semantic_type\": \"\",\n        \"description\": \"\"\n      }\n    },\n    {\n      \"column\": \"description\",\n      \"properties\": {\n        \"dtype\": \"string\",\n        \"num_unique_values\": 8775,\n        \"samples\": [\n          \"A heedless teen drifter who falls for a small-town waitress makes the mistake of robbing a drug lord, putting his life and newfound love in jeopardy.\",\n          \"Twelve-year-old Calvin manages to join the navy and serves in the battle of Guadalcanal. But when his age is revealed, the boy is sent to the brig.\"\n        ],\n        \"semantic_type\": \"\",\n        \"description\": \"\"\n      }\n    }\n  ]\n}"
            }
          },
          "metadata": {},
          "execution_count": 4
        }
      ]
    },
    {
      "cell_type": "code",
      "source": [
        "# Display the last few rows of the dataset\n",
        "print(\"\\nLast 5 Rows of the Dataset:\")\n",
        "data.tail()\n"
      ],
      "metadata": {
        "colab": {
          "base_uri": "https://localhost:8080/",
          "height": 607
        },
        "id": "t-R126RpiZqX",
        "outputId": "bad7bd09-4e7a-420c-945b-002f897b52b0"
      },
      "execution_count": null,
      "outputs": [
        {
          "output_type": "stream",
          "name": "stdout",
          "text": [
            "\n",
            "Last 5 Rows of the Dataset:\n"
          ]
        },
        {
          "output_type": "execute_result",
          "data": {
            "text/plain": [
              "     show_id     type        title         director  \\\n",
              "8802   s8803    Movie       Zodiac    David Fincher   \n",
              "8803   s8804  TV Show  Zombie Dumb              NaN   \n",
              "8804   s8805    Movie   Zombieland  Ruben Fleischer   \n",
              "8805   s8806    Movie         Zoom     Peter Hewitt   \n",
              "8806   s8807    Movie       Zubaan      Mozez Singh   \n",
              "\n",
              "                                                   cast        country  \\\n",
              "8802  Mark Ruffalo, Jake Gyllenhaal, Robert Downey J...  United States   \n",
              "8803                                                NaN            NaN   \n",
              "8804  Jesse Eisenberg, Woody Harrelson, Emma Stone, ...  United States   \n",
              "8805  Tim Allen, Courteney Cox, Chevy Chase, Kate Ma...  United States   \n",
              "8806  Vicky Kaushal, Sarah-Jane Dias, Raaghav Chanan...          India   \n",
              "\n",
              "             date_added  release_year rating   duration  \\\n",
              "8802  November 20, 2019          2007      R    158 min   \n",
              "8803       July 1, 2019          2018  TV-Y7  2 Seasons   \n",
              "8804   November 1, 2019          2009      R     88 min   \n",
              "8805   January 11, 2020          2006     PG     88 min   \n",
              "8806      March 2, 2019          2015  TV-14    111 min   \n",
              "\n",
              "                                           listed_in  \\\n",
              "8802                  Cult Movies, Dramas, Thrillers   \n",
              "8803          Kids' TV, Korean TV Shows, TV Comedies   \n",
              "8804                         Comedies, Horror Movies   \n",
              "8805              Children & Family Movies, Comedies   \n",
              "8806  Dramas, International Movies, Music & Musicals   \n",
              "\n",
              "                                            description  \n",
              "8802  A political cartoonist, a crime reporter and a...  \n",
              "8803  While living alone in a spooky town, a young g...  \n",
              "8804  Looking to survive in a world taken over by zo...  \n",
              "8805  Dragged from civilian life, a former superhero...  \n",
              "8806  A scrappy but poor boy worms his way into a ty...  "
            ],
            "text/html": [
              "\n",
              "  <div id=\"df-3299a930-ecbc-4bbb-9b7f-779719445c04\" class=\"colab-df-container\">\n",
              "    <div>\n",
              "<style scoped>\n",
              "    .dataframe tbody tr th:only-of-type {\n",
              "        vertical-align: middle;\n",
              "    }\n",
              "\n",
              "    .dataframe tbody tr th {\n",
              "        vertical-align: top;\n",
              "    }\n",
              "\n",
              "    .dataframe thead th {\n",
              "        text-align: right;\n",
              "    }\n",
              "</style>\n",
              "<table border=\"1\" class=\"dataframe\">\n",
              "  <thead>\n",
              "    <tr style=\"text-align: right;\">\n",
              "      <th></th>\n",
              "      <th>show_id</th>\n",
              "      <th>type</th>\n",
              "      <th>title</th>\n",
              "      <th>director</th>\n",
              "      <th>cast</th>\n",
              "      <th>country</th>\n",
              "      <th>date_added</th>\n",
              "      <th>release_year</th>\n",
              "      <th>rating</th>\n",
              "      <th>duration</th>\n",
              "      <th>listed_in</th>\n",
              "      <th>description</th>\n",
              "    </tr>\n",
              "  </thead>\n",
              "  <tbody>\n",
              "    <tr>\n",
              "      <th>8802</th>\n",
              "      <td>s8803</td>\n",
              "      <td>Movie</td>\n",
              "      <td>Zodiac</td>\n",
              "      <td>David Fincher</td>\n",
              "      <td>Mark Ruffalo, Jake Gyllenhaal, Robert Downey J...</td>\n",
              "      <td>United States</td>\n",
              "      <td>November 20, 2019</td>\n",
              "      <td>2007</td>\n",
              "      <td>R</td>\n",
              "      <td>158 min</td>\n",
              "      <td>Cult Movies, Dramas, Thrillers</td>\n",
              "      <td>A political cartoonist, a crime reporter and a...</td>\n",
              "    </tr>\n",
              "    <tr>\n",
              "      <th>8803</th>\n",
              "      <td>s8804</td>\n",
              "      <td>TV Show</td>\n",
              "      <td>Zombie Dumb</td>\n",
              "      <td>NaN</td>\n",
              "      <td>NaN</td>\n",
              "      <td>NaN</td>\n",
              "      <td>July 1, 2019</td>\n",
              "      <td>2018</td>\n",
              "      <td>TV-Y7</td>\n",
              "      <td>2 Seasons</td>\n",
              "      <td>Kids' TV, Korean TV Shows, TV Comedies</td>\n",
              "      <td>While living alone in a spooky town, a young g...</td>\n",
              "    </tr>\n",
              "    <tr>\n",
              "      <th>8804</th>\n",
              "      <td>s8805</td>\n",
              "      <td>Movie</td>\n",
              "      <td>Zombieland</td>\n",
              "      <td>Ruben Fleischer</td>\n",
              "      <td>Jesse Eisenberg, Woody Harrelson, Emma Stone, ...</td>\n",
              "      <td>United States</td>\n",
              "      <td>November 1, 2019</td>\n",
              "      <td>2009</td>\n",
              "      <td>R</td>\n",
              "      <td>88 min</td>\n",
              "      <td>Comedies, Horror Movies</td>\n",
              "      <td>Looking to survive in a world taken over by zo...</td>\n",
              "    </tr>\n",
              "    <tr>\n",
              "      <th>8805</th>\n",
              "      <td>s8806</td>\n",
              "      <td>Movie</td>\n",
              "      <td>Zoom</td>\n",
              "      <td>Peter Hewitt</td>\n",
              "      <td>Tim Allen, Courteney Cox, Chevy Chase, Kate Ma...</td>\n",
              "      <td>United States</td>\n",
              "      <td>January 11, 2020</td>\n",
              "      <td>2006</td>\n",
              "      <td>PG</td>\n",
              "      <td>88 min</td>\n",
              "      <td>Children &amp; Family Movies, Comedies</td>\n",
              "      <td>Dragged from civilian life, a former superhero...</td>\n",
              "    </tr>\n",
              "    <tr>\n",
              "      <th>8806</th>\n",
              "      <td>s8807</td>\n",
              "      <td>Movie</td>\n",
              "      <td>Zubaan</td>\n",
              "      <td>Mozez Singh</td>\n",
              "      <td>Vicky Kaushal, Sarah-Jane Dias, Raaghav Chanan...</td>\n",
              "      <td>India</td>\n",
              "      <td>March 2, 2019</td>\n",
              "      <td>2015</td>\n",
              "      <td>TV-14</td>\n",
              "      <td>111 min</td>\n",
              "      <td>Dramas, International Movies, Music &amp; Musicals</td>\n",
              "      <td>A scrappy but poor boy worms his way into a ty...</td>\n",
              "    </tr>\n",
              "  </tbody>\n",
              "</table>\n",
              "</div>\n",
              "    <div class=\"colab-df-buttons\">\n",
              "\n",
              "  <div class=\"colab-df-container\">\n",
              "    <button class=\"colab-df-convert\" onclick=\"convertToInteractive('df-3299a930-ecbc-4bbb-9b7f-779719445c04')\"\n",
              "            title=\"Convert this dataframe to an interactive table.\"\n",
              "            style=\"display:none;\">\n",
              "\n",
              "  <svg xmlns=\"http://www.w3.org/2000/svg\" height=\"24px\" viewBox=\"0 -960 960 960\">\n",
              "    <path d=\"M120-120v-720h720v720H120Zm60-500h600v-160H180v160Zm220 220h160v-160H400v160Zm0 220h160v-160H400v160ZM180-400h160v-160H180v160Zm440 0h160v-160H620v160ZM180-180h160v-160H180v160Zm440 0h160v-160H620v160Z\"/>\n",
              "  </svg>\n",
              "    </button>\n",
              "\n",
              "  <style>\n",
              "    .colab-df-container {\n",
              "      display:flex;\n",
              "      gap: 12px;\n",
              "    }\n",
              "\n",
              "    .colab-df-convert {\n",
              "      background-color: #E8F0FE;\n",
              "      border: none;\n",
              "      border-radius: 50%;\n",
              "      cursor: pointer;\n",
              "      display: none;\n",
              "      fill: #1967D2;\n",
              "      height: 32px;\n",
              "      padding: 0 0 0 0;\n",
              "      width: 32px;\n",
              "    }\n",
              "\n",
              "    .colab-df-convert:hover {\n",
              "      background-color: #E2EBFA;\n",
              "      box-shadow: 0px 1px 2px rgba(60, 64, 67, 0.3), 0px 1px 3px 1px rgba(60, 64, 67, 0.15);\n",
              "      fill: #174EA6;\n",
              "    }\n",
              "\n",
              "    .colab-df-buttons div {\n",
              "      margin-bottom: 4px;\n",
              "    }\n",
              "\n",
              "    [theme=dark] .colab-df-convert {\n",
              "      background-color: #3B4455;\n",
              "      fill: #D2E3FC;\n",
              "    }\n",
              "\n",
              "    [theme=dark] .colab-df-convert:hover {\n",
              "      background-color: #434B5C;\n",
              "      box-shadow: 0px 1px 3px 1px rgba(0, 0, 0, 0.15);\n",
              "      filter: drop-shadow(0px 1px 2px rgba(0, 0, 0, 0.3));\n",
              "      fill: #FFFFFF;\n",
              "    }\n",
              "  </style>\n",
              "\n",
              "    <script>\n",
              "      const buttonEl =\n",
              "        document.querySelector('#df-3299a930-ecbc-4bbb-9b7f-779719445c04 button.colab-df-convert');\n",
              "      buttonEl.style.display =\n",
              "        google.colab.kernel.accessAllowed ? 'block' : 'none';\n",
              "\n",
              "      async function convertToInteractive(key) {\n",
              "        const element = document.querySelector('#df-3299a930-ecbc-4bbb-9b7f-779719445c04');\n",
              "        const dataTable =\n",
              "          await google.colab.kernel.invokeFunction('convertToInteractive',\n",
              "                                                    [key], {});\n",
              "        if (!dataTable) return;\n",
              "\n",
              "        const docLinkHtml = 'Like what you see? Visit the ' +\n",
              "          '<a target=\"_blank\" href=https://colab.research.google.com/notebooks/data_table.ipynb>data table notebook</a>'\n",
              "          + ' to learn more about interactive tables.';\n",
              "        element.innerHTML = '';\n",
              "        dataTable['output_type'] = 'display_data';\n",
              "        await google.colab.output.renderOutput(dataTable, element);\n",
              "        const docLink = document.createElement('div');\n",
              "        docLink.innerHTML = docLinkHtml;\n",
              "        element.appendChild(docLink);\n",
              "      }\n",
              "    </script>\n",
              "  </div>\n",
              "\n",
              "\n",
              "<div id=\"df-bd486581-c476-42eb-9b8b-0464742c26af\">\n",
              "  <button class=\"colab-df-quickchart\" onclick=\"quickchart('df-bd486581-c476-42eb-9b8b-0464742c26af')\"\n",
              "            title=\"Suggest charts\"\n",
              "            style=\"display:none;\">\n",
              "\n",
              "<svg xmlns=\"http://www.w3.org/2000/svg\" height=\"24px\"viewBox=\"0 0 24 24\"\n",
              "     width=\"24px\">\n",
              "    <g>\n",
              "        <path d=\"M19 3H5c-1.1 0-2 .9-2 2v14c0 1.1.9 2 2 2h14c1.1 0 2-.9 2-2V5c0-1.1-.9-2-2-2zM9 17H7v-7h2v7zm4 0h-2V7h2v10zm4 0h-2v-4h2v4z\"/>\n",
              "    </g>\n",
              "</svg>\n",
              "  </button>\n",
              "\n",
              "<style>\n",
              "  .colab-df-quickchart {\n",
              "      --bg-color: #E8F0FE;\n",
              "      --fill-color: #1967D2;\n",
              "      --hover-bg-color: #E2EBFA;\n",
              "      --hover-fill-color: #174EA6;\n",
              "      --disabled-fill-color: #AAA;\n",
              "      --disabled-bg-color: #DDD;\n",
              "  }\n",
              "\n",
              "  [theme=dark] .colab-df-quickchart {\n",
              "      --bg-color: #3B4455;\n",
              "      --fill-color: #D2E3FC;\n",
              "      --hover-bg-color: #434B5C;\n",
              "      --hover-fill-color: #FFFFFF;\n",
              "      --disabled-bg-color: #3B4455;\n",
              "      --disabled-fill-color: #666;\n",
              "  }\n",
              "\n",
              "  .colab-df-quickchart {\n",
              "    background-color: var(--bg-color);\n",
              "    border: none;\n",
              "    border-radius: 50%;\n",
              "    cursor: pointer;\n",
              "    display: none;\n",
              "    fill: var(--fill-color);\n",
              "    height: 32px;\n",
              "    padding: 0;\n",
              "    width: 32px;\n",
              "  }\n",
              "\n",
              "  .colab-df-quickchart:hover {\n",
              "    background-color: var(--hover-bg-color);\n",
              "    box-shadow: 0 1px 2px rgba(60, 64, 67, 0.3), 0 1px 3px 1px rgba(60, 64, 67, 0.15);\n",
              "    fill: var(--button-hover-fill-color);\n",
              "  }\n",
              "\n",
              "  .colab-df-quickchart-complete:disabled,\n",
              "  .colab-df-quickchart-complete:disabled:hover {\n",
              "    background-color: var(--disabled-bg-color);\n",
              "    fill: var(--disabled-fill-color);\n",
              "    box-shadow: none;\n",
              "  }\n",
              "\n",
              "  .colab-df-spinner {\n",
              "    border: 2px solid var(--fill-color);\n",
              "    border-color: transparent;\n",
              "    border-bottom-color: var(--fill-color);\n",
              "    animation:\n",
              "      spin 1s steps(1) infinite;\n",
              "  }\n",
              "\n",
              "  @keyframes spin {\n",
              "    0% {\n",
              "      border-color: transparent;\n",
              "      border-bottom-color: var(--fill-color);\n",
              "      border-left-color: var(--fill-color);\n",
              "    }\n",
              "    20% {\n",
              "      border-color: transparent;\n",
              "      border-left-color: var(--fill-color);\n",
              "      border-top-color: var(--fill-color);\n",
              "    }\n",
              "    30% {\n",
              "      border-color: transparent;\n",
              "      border-left-color: var(--fill-color);\n",
              "      border-top-color: var(--fill-color);\n",
              "      border-right-color: var(--fill-color);\n",
              "    }\n",
              "    40% {\n",
              "      border-color: transparent;\n",
              "      border-right-color: var(--fill-color);\n",
              "      border-top-color: var(--fill-color);\n",
              "    }\n",
              "    60% {\n",
              "      border-color: transparent;\n",
              "      border-right-color: var(--fill-color);\n",
              "    }\n",
              "    80% {\n",
              "      border-color: transparent;\n",
              "      border-right-color: var(--fill-color);\n",
              "      border-bottom-color: var(--fill-color);\n",
              "    }\n",
              "    90% {\n",
              "      border-color: transparent;\n",
              "      border-bottom-color: var(--fill-color);\n",
              "    }\n",
              "  }\n",
              "</style>\n",
              "\n",
              "  <script>\n",
              "    async function quickchart(key) {\n",
              "      const quickchartButtonEl =\n",
              "        document.querySelector('#' + key + ' button');\n",
              "      quickchartButtonEl.disabled = true;  // To prevent multiple clicks.\n",
              "      quickchartButtonEl.classList.add('colab-df-spinner');\n",
              "      try {\n",
              "        const charts = await google.colab.kernel.invokeFunction(\n",
              "            'suggestCharts', [key], {});\n",
              "      } catch (error) {\n",
              "        console.error('Error during call to suggestCharts:', error);\n",
              "      }\n",
              "      quickchartButtonEl.classList.remove('colab-df-spinner');\n",
              "      quickchartButtonEl.classList.add('colab-df-quickchart-complete');\n",
              "    }\n",
              "    (() => {\n",
              "      let quickchartButtonEl =\n",
              "        document.querySelector('#df-bd486581-c476-42eb-9b8b-0464742c26af button');\n",
              "      quickchartButtonEl.style.display =\n",
              "        google.colab.kernel.accessAllowed ? 'block' : 'none';\n",
              "    })();\n",
              "  </script>\n",
              "</div>\n",
              "\n",
              "    </div>\n",
              "  </div>\n"
            ],
            "application/vnd.google.colaboratory.intrinsic+json": {
              "type": "dataframe",
              "repr_error": "0"
            }
          },
          "metadata": {},
          "execution_count": 5
        }
      ]
    },
    {
      "cell_type": "code",
      "source": [
        "#Data Cleaning and Pre-processing\n",
        "\n",
        "# Convert appropriate columns to 'category' data type\n",
        "data['type'] = data['type'].astype('category')\n",
        "data['rating'] = data['rating'].astype('category')\n",
        "data['listed_in'] = data['listed_in'].astype('category')\n"
      ],
      "metadata": {
        "id": "CX55-joAjg3J"
      },
      "execution_count": null,
      "outputs": []
    },
    {
      "cell_type": "code",
      "source": [
        "data['date_added'] = data['date_added'].str.strip()\n",
        "data['date_added'] = pd.to_datetime(data['date_added'], errors='coerce')"
      ],
      "metadata": {
        "id": "XJfkDssKjsEq"
      },
      "execution_count": null,
      "outputs": []
    },
    {
      "cell_type": "code",
      "source": [
        "data.info()"
      ],
      "metadata": {
        "colab": {
          "base_uri": "https://localhost:8080/"
        },
        "id": "5XyDlKGfj5nC",
        "outputId": "493a91c1-8b7a-465b-b562-7941fe5e0e0a"
      },
      "execution_count": null,
      "outputs": [
        {
          "output_type": "stream",
          "name": "stdout",
          "text": [
            "<class 'pandas.core.frame.DataFrame'>\n",
            "RangeIndex: 8807 entries, 0 to 8806\n",
            "Data columns (total 12 columns):\n",
            " #   Column        Non-Null Count  Dtype         \n",
            "---  ------        --------------  -----         \n",
            " 0   show_id       8807 non-null   object        \n",
            " 1   type          8807 non-null   category      \n",
            " 2   title         8807 non-null   object        \n",
            " 3   director      6173 non-null   object        \n",
            " 4   cast          7982 non-null   object        \n",
            " 5   country       7976 non-null   object        \n",
            " 6   date_added    8797 non-null   datetime64[ns]\n",
            " 7   release_year  8807 non-null   int64         \n",
            " 8   rating        8803 non-null   category      \n",
            " 9   duration      8804 non-null   object        \n",
            " 10  listed_in     8807 non-null   category      \n",
            " 11  description   8807 non-null   object        \n",
            "dtypes: category(3), datetime64[ns](1), int64(1), object(7)\n",
            "memory usage: 674.7+ KB\n"
          ]
        }
      ]
    },
    {
      "cell_type": "code",
      "source": [
        "# Handle missing values\n",
        "missing_values_summary = data.isnull().sum()\n",
        "missing_values_summary\n"
      ],
      "metadata": {
        "colab": {
          "base_uri": "https://localhost:8080/"
        },
        "id": "dgYyxSG5p05y",
        "outputId": "caf5c2af-9ff6-4768-a71b-564cc38571c3"
      },
      "execution_count": null,
      "outputs": [
        {
          "output_type": "execute_result",
          "data": {
            "text/plain": [
              "show_id            0\n",
              "type               0\n",
              "title              0\n",
              "director        2634\n",
              "cast             825\n",
              "country          831\n",
              "date_added        10\n",
              "release_year       0\n",
              "rating             4\n",
              "duration           3\n",
              "listed_in          0\n",
              "description        0\n",
              "dtype: int64"
            ]
          },
          "metadata": {},
          "execution_count": 9
        }
      ]
    },
    {
      "cell_type": "code",
      "source": [
        "# Handle missing values\n",
        "data['director'].fillna('Unknown', inplace=True)\n",
        "data['cast'].fillna('Unknown', inplace=True)\n",
        "data['country'].fillna('Unknown', inplace=True)\n",
        "\n",
        "# Add 'Unknown' to the categories of 'rating' before filling missing values\n",
        "data['rating'] = data['rating'].cat.add_categories('Unknown')\n",
        "data['rating'].fillna('Unknown', inplace=True)\n",
        "\n",
        "data['date_added'].fillna(data['date_added'].mode()[0], inplace=True)\n",
        "data['duration'].fillna('Unknown', inplace=True)"
      ],
      "metadata": {
        "id": "ZyUgX2hsqR6k"
      },
      "execution_count": null,
      "outputs": []
    },
    {
      "cell_type": "code",
      "source": [
        "# Verify no missing values remain\n",
        "missing_values_after_cleaning = data.isnull().sum()\n",
        "missing_values_after_cleaning"
      ],
      "metadata": {
        "colab": {
          "base_uri": "https://localhost:8080/"
        },
        "id": "1SZxV4yMqhEN",
        "outputId": "3566a316-643a-4d59-f30e-b54905c54569"
      },
      "execution_count": null,
      "outputs": [
        {
          "output_type": "execute_result",
          "data": {
            "text/plain": [
              "show_id         0\n",
              "type            0\n",
              "title           0\n",
              "director        0\n",
              "cast            0\n",
              "country         0\n",
              "date_added      0\n",
              "release_year    0\n",
              "rating          0\n",
              "duration        0\n",
              "listed_in       0\n",
              "description     0\n",
              "dtype: int64"
            ]
          },
          "metadata": {},
          "execution_count": 11
        }
      ]
    },
    {
      "cell_type": "code",
      "source": [
        "# Display statistical summary\n",
        "print(\"\\nStatistical Summary:\")\n",
        "print(data.describe())"
      ],
      "metadata": {
        "colab": {
          "base_uri": "https://localhost:8080/"
        },
        "id": "QxZmQJmhI9or",
        "outputId": "4f8836ed-d821-4736-9a60-97c2a812c610"
      },
      "execution_count": null,
      "outputs": [
        {
          "output_type": "stream",
          "name": "stdout",
          "text": [
            "\n",
            "Statistical Summary:\n",
            "       release_year\n",
            "count   8807.000000\n",
            "mean    2014.180198\n",
            "std        8.819312\n",
            "min     1925.000000\n",
            "25%     2013.000000\n",
            "50%     2017.000000\n",
            "75%     2019.000000\n",
            "max     2021.000000\n"
          ]
        }
      ]
    },
    {
      "cell_type": "markdown",
      "source": [
        "## **Non-Graphical Analysis: Value Counts and Unique Attributes**"
      ],
      "metadata": {
        "id": "l6bLnoVlMUw-"
      }
    },
    {
      "cell_type": "markdown",
      "source": [
        "Value Counts:\n",
        "\n",
        "1. Type of Content (Movies vs. TV Shows):\n",
        "\n",
        "\n",
        "*   Calculate and display the number of movies and TV shows in the dataset using value_counts().\n",
        "\n",
        "2. Top Directors and Cast Members:\n",
        "\n",
        "\n",
        "*  Determine the most frequent directors and cast members by counting their occurrences in the respective columns (director and cast).\n",
        "\n",
        "3. Popular Countries:\n",
        "\n",
        "\n",
        "* Explore which countries have the most content available on Netflix using value_counts() on the country column.\n",
        "\n",
        "4. Distribution of Ratings:\n",
        "\n",
        "\n",
        "*  Analyze the distribution of content ratings (e.g., PG-13, TV-MA) using value_counts() on the rating column.\n",
        "\n",
        "\n",
        "Unique Attributes:\n",
        "\n",
        "1. Unique Genres:\n",
        "\n",
        "\n",
        "*  Identify all unique genres present in the listed_in column to understand the diversity of content genres on Netflix.\n",
        "\n",
        "2. Unique Release Years:\n",
        "\n",
        "*   List all unique release years from the release_year column to see the range of years represented in the dataset.\n",
        "\n",
        "\n",
        "\n",
        "\n"
      ],
      "metadata": {
        "id": "IF7xj5tmMaIx"
      }
    },
    {
      "cell_type": "code",
      "source": [
        "# Value counts\n",
        "print(\"Value Counts:\")\n",
        "\n",
        "# Type of content (Movies vs. TV Shows)\n",
        "type_counts = data['type'].value_counts()\n",
        "print(\"\\nType of Content (Movies vs. TV Shows):\\n\", type_counts)\n",
        "print(\"\\nInsight: Netflix has a significantly larger number of movies (6131) compared to TV shows (2676), indicating a strong emphasis on movie content.\")"
      ],
      "metadata": {
        "colab": {
          "base_uri": "https://localhost:8080/"
        },
        "id": "uDTyN9JrNTAx",
        "outputId": "1e2515b6-2204-43a6-dcbd-cf8d1da928fd"
      },
      "execution_count": null,
      "outputs": [
        {
          "output_type": "stream",
          "name": "stdout",
          "text": [
            "Value Counts:\n",
            "\n",
            "Type of Content (Movies vs. TV Shows):\n",
            " type\n",
            "Movie      6131\n",
            "TV Show    2676\n",
            "Name: count, dtype: int64\n",
            "\n",
            "Insight: Netflix has a significantly larger number of movies (6131) compared to TV shows (2676), indicating a strong emphasis on movie content.\n"
          ]
        }
      ]
    },
    {
      "cell_type": "code",
      "source": [
        "# Top directors\n",
        "top_directors = data['director'].value_counts().head(10)\n",
        "print(\"\\nTop Directors:\\n\", top_directors)\n",
        "print(\"\\nInsight: Rajiv Chilaka and Raúl Campos, Jan Suter are the top directors with the most content on Netflix, suggesting a focus on specific creators or genres.\")"
      ],
      "metadata": {
        "colab": {
          "base_uri": "https://localhost:8080/"
        },
        "id": "kex3zgh8Na5F",
        "outputId": "dc80220b-422c-4a25-e3d4-ced4721df0df"
      },
      "execution_count": null,
      "outputs": [
        {
          "output_type": "stream",
          "name": "stdout",
          "text": [
            "\n",
            "Top Directors:\n",
            " director\n",
            "Rajiv Chilaka             19\n",
            "Raúl Campos, Jan Suter    18\n",
            "Marcus Raboy              16\n",
            "Suhas Kadav               16\n",
            "Jay Karas                 14\n",
            "Cathy Garcia-Molina       13\n",
            "Martin Scorsese           12\n",
            "Youssef Chahine           12\n",
            "Jay Chapman               12\n",
            "Steven Spielberg          11\n",
            "Name: count, dtype: int64\n",
            "\n",
            "Insight: Rajiv Chilaka and Raúl Campos, Jan Suter are the top directors with the most content on Netflix, suggesting a focus on specific creators or genres.\n"
          ]
        }
      ]
    },
    {
      "cell_type": "code",
      "source": [
        "# Top cast members\n",
        "top_cast = data['cast'].value_counts().head(10)\n",
        "print(\"\\nTop Cast Members:\\n\", top_cast)"
      ],
      "metadata": {
        "colab": {
          "base_uri": "https://localhost:8080/"
        },
        "id": "Pfx2oRTpNdvS",
        "outputId": "795a7d23-166f-4960-8992-fd3cfd3dceb8"
      },
      "execution_count": null,
      "outputs": [
        {
          "output_type": "stream",
          "name": "stdout",
          "text": [
            "\n",
            "Top Cast Members:\n",
            " cast\n",
            "David Attenborough                                                                                                        19\n",
            "Vatsal Dubey, Julie Tejwani, Rupa Bhimani, Jigna Bhardwaj, Rajesh Kava, Mousam, Swapnil                                   14\n",
            "Samuel West                                                                                                               10\n",
            "Jeff Dunham                                                                                                                7\n",
            "David Spade, London Hughes, Fortune Feimster                                                                               6\n",
            "Kevin Hart                                                                                                                 6\n",
            "Craig Sechler                                                                                                              6\n",
            "Michela Luci, Jamie Watson, Eric Peterson, Anna Claire Bartlam, Nicolas Aqui, Cory Doran, Julie Lemieux, Derek McGrath     6\n",
            "Bill Burr                                                                                                                  5\n",
            "Iliza Shlesinger                                                                                                           5\n",
            "Name: count, dtype: int64\n"
          ]
        }
      ]
    },
    {
      "cell_type": "code",
      "source": [
        "# Popular countries\n",
        "top_countries = data['country'].value_counts().head(10)\n",
        "print(\"\\nPopular Countries:\\n\", top_countries)"
      ],
      "metadata": {
        "colab": {
          "base_uri": "https://localhost:8080/"
        },
        "id": "i3JHWTvhNgN4",
        "outputId": "42dc6923-4456-4c6a-b489-129674fbf5d0"
      },
      "execution_count": null,
      "outputs": [
        {
          "output_type": "stream",
          "name": "stdout",
          "text": [
            "\n",
            "Popular Countries:\n",
            " country\n",
            "United States     2818\n",
            "India              972\n",
            "United Kingdom     419\n",
            "Japan              245\n",
            "South Korea        199\n",
            "Canada             181\n",
            "Spain              145\n",
            "France             124\n",
            "Mexico             110\n",
            "Egypt              106\n",
            "Name: count, dtype: int64\n"
          ]
        }
      ]
    },
    {
      "cell_type": "code",
      "source": [
        "# Distribution of ratings\n",
        "rating_counts = data['rating'].value_counts()\n",
        "print(\"\\nDistribution of Ratings:\\n\", rating_counts)"
      ],
      "metadata": {
        "colab": {
          "base_uri": "https://localhost:8080/"
        },
        "id": "FN5b_pIsNidc",
        "outputId": "caf14c9f-8c9b-4a9b-a0e2-96d2016eeda4"
      },
      "execution_count": null,
      "outputs": [
        {
          "output_type": "stream",
          "name": "stdout",
          "text": [
            "\n",
            "Distribution of Ratings:\n",
            " rating\n",
            "TV-MA       3207\n",
            "TV-14       2160\n",
            "TV-PG        863\n",
            "R            799\n",
            "PG-13        490\n",
            "TV-Y7        334\n",
            "TV-Y         307\n",
            "PG           287\n",
            "TV-G         220\n",
            "NR            80\n",
            "G             41\n",
            "TV-Y7-FV       6\n",
            "NC-17          3\n",
            "UR             3\n",
            "74 min         1\n",
            "84 min         1\n",
            "66 min         1\n",
            "Name: count, dtype: int64\n"
          ]
        }
      ]
    },
    {
      "cell_type": "code",
      "source": [
        "# Unique genres\n",
        "unique_genres = data['listed_in'].unique()\n",
        "print(\"\\nUnique Genres:\\n\", unique_genres)\n",
        "print(\"\\nInsight: The diversity of genres on Netflix includes a wide range from classic movies to international TV shows, catering to varied viewer preferences.\")"
      ],
      "metadata": {
        "colab": {
          "base_uri": "https://localhost:8080/"
        },
        "id": "QkdTgEyRNljD",
        "outputId": "d57931cf-c51d-4d41-eca3-246d2a19c437"
      },
      "execution_count": null,
      "outputs": [
        {
          "output_type": "stream",
          "name": "stdout",
          "text": [
            "\n",
            "Unique Genres:\n",
            " ['Documentaries' 'International TV Shows, TV Dramas, TV Mysteries'\n",
            " 'Crime TV Shows, International TV Shows, TV Action & Adventure'\n",
            " 'Docuseries, Reality TV'\n",
            " 'International TV Shows, Romantic TV Shows, TV Comedies'\n",
            " 'TV Dramas, TV Horror, TV Mysteries' 'Children & Family Movies'\n",
            " 'Dramas, Independent Movies, International Movies'\n",
            " 'British TV Shows, Reality TV' 'Comedies, Dramas'\n",
            " 'Crime TV Shows, Docuseries, International TV Shows'\n",
            " 'Dramas, International Movies' 'Children & Family Movies, Comedies'\n",
            " 'British TV Shows, Crime TV Shows, Docuseries' 'TV Comedies, TV Dramas'\n",
            " 'Documentaries, International Movies'\n",
            " 'Crime TV Shows, Spanish-Language TV Shows, TV Dramas' 'Thrillers'\n",
            " 'International TV Shows, Spanish-Language TV Shows, TV Action & Adventure'\n",
            " 'International TV Shows, TV Action & Adventure, TV Dramas'\n",
            " 'Comedies, International Movies'\n",
            " 'Comedies, International Movies, Romantic Movies'\n",
            " 'Docuseries, International TV Shows, Reality TV'\n",
            " 'Comedies, International Movies, Music & Musicals' 'Comedies'\n",
            " 'Horror Movies, Sci-Fi & Fantasy' 'TV Comedies'\n",
            " 'British TV Shows, International TV Shows, TV Comedies'\n",
            " 'International TV Shows, TV Dramas, TV Thrillers' \"Kids' TV\"\n",
            " 'Dramas, International Movies, Thrillers'\n",
            " 'Action & Adventure, Dramas, International Movies'\n",
            " \"Kids' TV, TV Comedies\" 'Action & Adventure, Dramas'\n",
            " \"Kids' TV, TV Sci-Fi & Fantasy\"\n",
            " 'Action & Adventure, Classic Movies, Dramas'\n",
            " 'Dramas, Horror Movies, Thrillers'\n",
            " 'Action & Adventure, Horror Movies, Thrillers' 'Action & Adventure'\n",
            " 'Dramas, Thrillers' 'International TV Shows, TV Dramas'\n",
            " 'International TV Shows, TV Dramas, TV Sci-Fi & Fantasy'\n",
            " 'Action & Adventure, Anime Features, International Movies' 'Reality TV'\n",
            " 'Docuseries, International TV Shows'\n",
            " 'Documentaries, International Movies, Sports Movies'\n",
            " 'International TV Shows, Reality TV, Romantic TV Shows'\n",
            " 'British TV Shows, Docuseries, International TV Shows'\n",
            " 'Anime Series, International TV Shows'\n",
            " 'Comedies, Dramas, International Movies'\n",
            " 'Crime TV Shows, TV Comedies, TV Dramas'\n",
            " 'Action & Adventure, Comedies, Dramas' \"Anime Series, Kids' TV\"\n",
            " 'International Movies, Thrillers' \"Kids' TV, Korean TV Shows\"\n",
            " 'Documentaries, Sports Movies' 'Sci-Fi & Fantasy, Thrillers'\n",
            " 'Dramas, International Movies, Romantic Movies'\n",
            " 'Documentaries, Music & Musicals'\n",
            " \"Kids' TV, TV Comedies, TV Sci-Fi & Fantasy\" \"British TV Shows, Kids' TV\"\n",
            " 'Docuseries, Science & Nature TV' 'Children & Family Movies, Dramas'\n",
            " \"Kids' TV, TV Dramas, Teen TV Shows\"\n",
            " 'Crime TV Shows, International TV Shows, Spanish-Language TV Shows'\n",
            " 'Docuseries, International TV Shows, Spanish-Language TV Shows' 'Dramas'\n",
            " 'Comedies, Romantic Movies' 'Dramas, Romantic Movies'\n",
            " 'Comedies, Dramas, Independent Movies'\n",
            " 'Crime TV Shows, TV Action & Adventure, TV Comedies'\n",
            " 'Children & Family Movies, Music & Musicals'\n",
            " 'Action & Adventure, Classic Movies, Cult Movies'\n",
            " 'International TV Shows, TV Action & Adventure, TV Comedies'\n",
            " 'Action & Adventure, Sci-Fi & Fantasy' 'Action & Adventure, Comedies'\n",
            " 'Classic Movies, Comedies, Dramas' 'Comedies, Cult Movies'\n",
            " 'Comedies, Cult Movies, Music & Musicals' 'Comedies, Music & Musicals'\n",
            " 'TV Shows' 'Action & Adventure, International Movies'\n",
            " 'Anime Series, International TV Shows, Teen TV Shows'\n",
            " 'Action & Adventure, Children & Family Movies, Cult Movies'\n",
            " 'Comedies, Dramas, Romantic Movies'\n",
            " 'Comedies, Cult Movies, Sci-Fi & Fantasy' 'Classic Movies, Dramas'\n",
            " 'Action & Adventure, Children & Family Movies, Comedies'\n",
            " 'Dramas, Faith & Spirituality' 'Documentaries, LGBTQ Movies'\n",
            " 'Action & Adventure, Classic Movies' 'Docuseries'\n",
            " 'International TV Shows, TV Comedies' 'Dramas, Independent Movies'\n",
            " 'Action & Adventure, Comedies, International Movies'\n",
            " 'International TV Shows, Spanish-Language TV Shows, TV Dramas'\n",
            " 'Crime TV Shows, International TV Shows, TV Dramas'\n",
            " 'Action & Adventure, Horror Movies, International Movies'\n",
            " 'Comedies, International Movies, Sci-Fi & Fantasy'\n",
            " 'Action & Adventure, International Movies, Music & Musicals'\n",
            " 'Dramas, International Movies, Music & Musicals'\n",
            " 'Horror Movies, International Movies' 'Reality TV, Teen TV Shows'\n",
            " 'Crime TV Shows, TV Dramas, TV Mysteries'\n",
            " 'International TV Shows, Reality TV'\n",
            " 'International TV Shows, TV Comedies, TV Dramas'\n",
            " 'Dramas, Independent Movies, Romantic Movies' 'Horror Movies'\n",
            " 'Documentaries, LGBTQ Movies, Sports Movies'\n",
            " 'Horror Movies, International Movies, Thrillers'\n",
            " 'Action & Adventure, Anime Features'\n",
            " 'TV Dramas, TV Mysteries, TV Sci-Fi & Fantasy'\n",
            " 'International TV Shows, Spanish-Language TV Shows, TV Comedies'\n",
            " 'Children & Family Movies, Comedies, Music & Musicals'\n",
            " 'Comedies, Independent Movies'\n",
            " 'Anime Series, International TV Shows, Romantic TV Shows'\n",
            " 'Classic Movies, Dramas, Independent Movies'\n",
            " 'International TV Shows, Romantic TV Shows, Spanish-Language TV Shows'\n",
            " 'International TV Shows, TV Dramas, Teen TV Shows' 'Stand-Up Comedy'\n",
            " 'Action & Adventure, Anime Features, Children & Family Movies'\n",
            " 'International TV Shows, Romantic TV Shows, TV Dramas'\n",
            " 'International Movies, Music & Musicals'\n",
            " 'TV Action & Adventure, TV Dramas, TV Mysteries'\n",
            " 'Horror Movies, Independent Movies, International Movies'\n",
            " 'Comedies, Cult Movies, International Movies'\n",
            " 'Classic Movies, Dramas, International Movies' 'Movies'\n",
            " 'Crime TV Shows, Docuseries'\n",
            " 'Children & Family Movies, Comedies, Sci-Fi & Fantasy'\n",
            " 'Anime Series, International TV Shows, TV Thrillers'\n",
            " 'Action & Adventure, Horror Movies, Sci-Fi & Fantasy'\n",
            " 'Classic Movies, Comedies, Cult Movies' 'TV Dramas, Teen TV Shows'\n",
            " 'Action & Adventure, Sci-Fi & Fantasy, Thrillers'\n",
            " 'Children & Family Movies, Comedies, Dramas' 'Dramas, Sports Movies'\n",
            " 'Action & Adventure, Dramas, Sci-Fi & Fantasy'\n",
            " 'Action & Adventure, Comedies, Cult Movies'\n",
            " 'Dramas, Independent Movies, Thrillers' 'TV Dramas, TV Sci-Fi & Fantasy'\n",
            " 'Action & Adventure, International Movies, Thrillers'\n",
            " 'British TV Shows, International TV Shows, Reality TV'\n",
            " 'TV Action & Adventure, TV Dramas, Teen TV Shows' 'Anime Series'\n",
            " 'Crime TV Shows, TV Action & Adventure, TV Sci-Fi & Fantasy'\n",
            " 'Crime TV Shows, International TV Shows, TV Comedies'\n",
            " 'Stand-Up Comedy & Talk Shows, TV Comedies'\n",
            " 'Classic & Cult TV, TV Action & Adventure, TV Dramas'\n",
            " 'Children & Family Movies, Sports Movies'\n",
            " 'TV Action & Adventure, TV Sci-Fi & Fantasy'\n",
            " 'Anime Series, Stand-Up Comedy & Talk Shows' 'TV Dramas'\n",
            " 'Anime Features, Children & Family Movies, International Movies'\n",
            " 'Classic & Cult TV, Crime TV Shows, International TV Shows'\n",
            " 'Crime TV Shows, International TV Shows, Romantic TV Shows'\n",
            " 'Horror Movies, LGBTQ Movies'\n",
            " 'Action & Adventure, Dramas, Romantic Movies'\n",
            " 'Documentaries, International Movies, Music & Musicals'\n",
            " 'TV Comedies, TV Dramas, Teen TV Shows'\n",
            " 'Children & Family Movies, Comedies, Sports Movies'\n",
            " 'Children & Family Movies, Dramas, International Movies'\n",
            " 'Comedies, Documentaries, International Movies'\n",
            " 'Romantic TV Shows, TV Dramas' 'Anime Series, TV Horror, TV Thrillers'\n",
            " 'International Movies, Romantic Movies'\n",
            " 'TV Action & Adventure, TV Dramas, TV Sci-Fi & Fantasy'\n",
            " \"Kids' TV, Korean TV Shows, TV Comedies\"\n",
            " 'British TV Shows, Crime TV Shows, International TV Shows'\n",
            " 'Crime TV Shows, TV Horror, TV Mysteries'\n",
            " 'Docuseries, International TV Shows, Science & Nature TV'\n",
            " 'British TV Shows, International TV Shows, TV Dramas'\n",
            " \"Kids' TV, TV Action & Adventure, TV Sci-Fi & Fantasy\"\n",
            " 'International Movies, Romantic Movies, Thrillers'\n",
            " 'Action & Adventure, Cult Movies, International Movies'\n",
            " 'Action & Adventure, Comedies, Sci-Fi & Fantasy'\n",
            " \"International TV Shows, Kids' TV, TV Mysteries\"\n",
            " 'Action & Adventure, Thrillers'\n",
            " 'Dramas, Faith & Spirituality, International Movies'\n",
            " 'Action & Adventure, Classic Movies, Comedies'\n",
            " 'Action & Adventure, Comedies, Sports Movies'\n",
            " 'Action & Adventure, Children & Family Movies, Classic Movies'\n",
            " 'Action & Adventure, Children & Family Movies, Dramas'\n",
            " 'Horror Movies, Thrillers' 'Action & Adventure, Romantic Movies'\n",
            " 'Dramas, Romantic Movies, Sci-Fi & Fantasy'\n",
            " 'Dramas, Music & Musicals, Romantic Movies'\n",
            " 'Anime Series, Crime TV Shows, International TV Shows'\n",
            " 'Reality TV, Romantic TV Shows'\n",
            " 'International Movies, Music & Musicals, Romantic Movies'\n",
            " 'Reality TV, TV Action & Adventure, TV Mysteries'\n",
            " 'Crime TV Shows, TV Dramas'\n",
            " 'International TV Shows, Reality TV, Spanish-Language TV Shows'\n",
            " 'Crime TV Shows, TV Dramas, TV Thrillers' 'British TV Shows, Docuseries'\n",
            " 'International TV Shows, Korean TV Shows, TV Comedies'\n",
            " 'Action & Adventure, Anime Features, Classic Movies'\n",
            " 'TV Action & Adventure, TV Dramas, TV Horror'\n",
            " 'Crime TV Shows, International TV Shows, TV Thrillers'\n",
            " 'Anime Series, Crime TV Shows, TV Horror' 'Anime Features, Documentaries'\n",
            " 'Comedies, Horror Movies'\n",
            " 'International TV Shows, Spanish-Language TV Shows, Stand-Up Comedy & Talk Shows'\n",
            " 'Children & Family Movies, Documentaries, International Movies'\n",
            " 'Romantic TV Shows, TV Comedies, TV Dramas'\n",
            " 'Dramas, Faith & Spirituality, Romantic Movies'\n",
            " 'Dramas, Independent Movies, LGBTQ Movies'\n",
            " 'Comedies, Independent Movies, LGBTQ Movies'\n",
            " 'Action & Adventure, Cult Movies, Sci-Fi & Fantasy'\n",
            " 'Cult Movies, Horror Movies' 'Action & Adventure, Dramas, Sports Movies'\n",
            " 'Anime Series, Romantic TV Shows, Teen TV Shows'\n",
            " 'Dramas, International Movies, LGBTQ Movies'\n",
            " 'Dramas, Romantic Movies, Thrillers'\n",
            " 'Children & Family Movies, Dramas, Faith & Spirituality'\n",
            " 'Dramas, International Movies, Sports Movies'\n",
            " 'Action & Adventure, Horror Movies'\n",
            " 'Documentaries, International Movies, LGBTQ Movies'\n",
            " 'Dramas, Independent Movies, Sci-Fi & Fantasy'\n",
            " 'Comedies, Independent Movies, International Movies'\n",
            " 'Reality TV, TV Horror, TV Thrillers'\n",
            " 'TV Action & Adventure, TV Horror, TV Sci-Fi & Fantasy'\n",
            " 'International TV Shows, TV Horror, TV Sci-Fi & Fantasy'\n",
            " 'Independent Movies, International Movies, Thrillers'\n",
            " 'Independent Movies, Thrillers' 'Documentaries, Dramas'\n",
            " 'Action & Adventure, Sports Movies'\n",
            " 'Dramas, International Movies, Sci-Fi & Fantasy'\n",
            " 'Comedies, Independent Movies, Romantic Movies'\n",
            " 'Horror Movies, Romantic Movies, Sci-Fi & Fantasy'\n",
            " 'International TV Shows, Stand-Up Comedy & Talk Shows'\n",
            " 'Action & Adventure, Anime Features, Horror Movies'\n",
            " 'Cult Movies, Dramas, Music & Musicals' 'TV Dramas, TV Thrillers'\n",
            " 'Crime TV Shows, International TV Shows, Korean TV Shows'\n",
            " 'TV Horror, TV Mysteries, TV Thrillers'\n",
            " 'Comedies, Horror Movies, International Movies'\n",
            " 'Crime TV Shows, Docuseries, TV Mysteries'\n",
            " 'Comedies, International Movies, Sports Movies'\n",
            " 'Classic Movies, Music & Musicals' 'Reality TV, TV Comedies, TV Horror'\n",
            " 'Children & Family Movies, Faith & Spirituality, Music & Musicals'\n",
            " 'International TV Shows, Korean TV Shows, Stand-Up Comedy & Talk Shows'\n",
            " 'Dramas, Music & Musicals'\n",
            " 'Docuseries, Science & Nature TV, TV Action & Adventure'\n",
            " \"British TV Shows, Kids' TV, TV Dramas\"\n",
            " 'International TV Shows, Korean TV Shows, Romantic TV Shows'\n",
            " 'Horror Movies, Independent Movies'\n",
            " \"Anime Series, Kids' TV, TV Action & Adventure\"\n",
            " 'Comedies, Dramas, Music & Musicals' 'TV Horror, Teen TV Shows'\n",
            " 'Comedies, LGBTQ Movies, Thrillers'\n",
            " 'Docuseries, Reality TV, Science & Nature TV'\n",
            " 'Crime TV Shows, Spanish-Language TV Shows, TV Action & Adventure'\n",
            " 'Romantic TV Shows, Teen TV Shows' 'TV Comedies, Teen TV Shows'\n",
            " 'Romantic TV Shows, TV Dramas, Teen TV Shows'\n",
            " 'Children & Family Movies, Sci-Fi & Fantasy'\n",
            " 'Romantic TV Shows, TV Action & Adventure, TV Dramas'\n",
            " 'Comedies, International Movies, LGBTQ Movies' 'Dramas, Sci-Fi & Fantasy'\n",
            " \"Kids' TV, TV Thrillers\"\n",
            " 'TV Action & Adventure, TV Comedies, TV Sci-Fi & Fantasy'\n",
            " 'British TV Shows, Romantic TV Shows, TV Dramas'\n",
            " 'Anime Series, International TV Shows, Spanish-Language TV Shows'\n",
            " 'Docuseries, TV Comedies' 'Comedies, Romantic Movies, Sports Movies'\n",
            " 'TV Action & Adventure, TV Comedies, TV Dramas'\n",
            " 'Children & Family Movies, Dramas, Sports Movies'\n",
            " 'Action & Adventure, Dramas, Independent Movies'\n",
            " 'Spanish-Language TV Shows, TV Dramas' 'Dramas, LGBTQ Movies'\n",
            " 'TV Horror, TV Mysteries, TV Sci-Fi & Fantasy'\n",
            " 'Action & Adventure, Dramas, Faith & Spirituality'\n",
            " 'International TV Shows, TV Mysteries, TV Thrillers'\n",
            " 'British TV Shows, Classic & Cult TV, International TV Shows'\n",
            " 'Action & Adventure, Comedies, Independent Movies' 'Music & Musicals'\n",
            " \"British TV Shows, Kids' TV, TV Comedies\"\n",
            " 'Docuseries, Spanish-Language TV Shows'\n",
            " 'Dramas, Independent Movies, Sports Movies'\n",
            " 'TV Dramas, TV Mysteries, TV Thrillers'\n",
            " 'Comedies, LGBTQ Movies, Music & Musicals'\n",
            " 'International TV Shows, TV Action & Adventure, TV Mysteries'\n",
            " \"Kids' TV, TV Comedies, Teen TV Shows\"\n",
            " 'International TV Shows, TV Dramas, TV Horror'\n",
            " 'Comedies, International Movies, Thrillers'\n",
            " 'Classic & Cult TV, TV Action & Adventure, TV Sci-Fi & Fantasy'\n",
            " 'International TV Shows, TV Horror, TV Mysteries'\n",
            " 'Children & Family Movies, Documentaries'\n",
            " 'Music & Musicals, Romantic Movies' 'Romantic Movies'\n",
            " 'Children & Family Movies, Classic Movies, Comedies'\n",
            " 'TV Action & Adventure, TV Dramas'\n",
            " 'Dramas, LGBTQ Movies, Romantic Movies'\n",
            " 'Children & Family Movies, Comedies, Romantic Movies'\n",
            " 'Comedies, Sports Movies' 'International Movies'\n",
            " 'International TV Shows, Romantic TV Shows, TV Mysteries'\n",
            " 'Stand-Up Comedy & Talk Shows'\n",
            " 'Action & Adventure, International Movies, Romantic Movies'\n",
            " 'Reality TV, TV Comedies' 'Cult Movies, Dramas, International Movies'\n",
            " \"Kids' TV, TV Dramas\"\n",
            " 'Crime TV Shows, International TV Shows, TV Mysteries'\n",
            " 'Action & Adventure, Sci-Fi & Fantasy, Sports Movies'\n",
            " 'TV Dramas, TV Sci-Fi & Fantasy, TV Thrillers'\n",
            " 'Romantic TV Shows, TV Dramas, TV Sci-Fi & Fantasy'\n",
            " 'Docuseries, TV Sci-Fi & Fantasy' 'Anime Features, International Movies'\n",
            " \"British TV Shows, Classic & Cult TV, Kids' TV\"\n",
            " 'British TV Shows, Reality TV, Romantic TV Shows'\n",
            " 'Documentaries, Faith & Spirituality, International Movies'\n",
            " \"Kids' TV, Reality TV, TV Dramas\" 'LGBTQ Movies, Thrillers'\n",
            " 'TV Action & Adventure, TV Mysteries, TV Sci-Fi & Fantasy'\n",
            " 'Reality TV, Science & Nature TV'\n",
            " \"Kids' TV, TV Action & Adventure, TV Comedies\"\n",
            " 'International TV Shows, Romantic TV Shows, TV Action & Adventure'\n",
            " 'Children & Family Movies, Dramas, Independent Movies'\n",
            " 'Comedies, Music & Musicals, Romantic Movies'\n",
            " 'International TV Shows, Korean TV Shows, Reality TV'\n",
            " 'Classic & Cult TV, TV Dramas, TV Sci-Fi & Fantasy'\n",
            " 'Anime Features, Children & Family Movies'\n",
            " 'Action & Adventure, International Movies, Sci-Fi & Fantasy'\n",
            " 'Crime TV Shows, TV Action & Adventure, TV Dramas'\n",
            " 'Classic & Cult TV, TV Action & Adventure, TV Horror'\n",
            " 'International TV Shows, Korean TV Shows, TV Dramas'\n",
            " 'International TV Shows, TV Action & Adventure, TV Horror'\n",
            " 'Action & Adventure, Comedies, Romantic Movies'\n",
            " 'International TV Shows, Korean TV Shows, TV Action & Adventure'\n",
            " \"Classic & Cult TV, Kids' TV, TV Action & Adventure\"\n",
            " 'Anime Series, International TV Shows, TV Horror'\n",
            " 'International TV Shows, Korean TV Shows, TV Horror'\n",
            " 'Children & Family Movies, Comedies, International Movies'\n",
            " 'International Movies, Sci-Fi & Fantasy'\n",
            " 'International Movies, Sci-Fi & Fantasy, Thrillers'\n",
            " 'Children & Family Movies, Dramas, Romantic Movies'\n",
            " 'Anime Series, Romantic TV Shows' 'Comedies, Dramas, LGBTQ Movies'\n",
            " 'British TV Shows, International TV Shows, TV Action & Adventure'\n",
            " 'Docuseries, Science & Nature TV, TV Comedies'\n",
            " 'International TV Shows, Stand-Up Comedy & Talk Shows, TV Comedies'\n",
            " 'Children & Family Movies, Dramas, Music & Musicals'\n",
            " 'Action & Adventure, Independent Movies, International Movies'\n",
            " 'Action & Adventure, Children & Family Movies, Sci-Fi & Fantasy'\n",
            " 'Horror Movies, Independent Movies, Sci-Fi & Fantasy'\n",
            " 'TV Dramas, TV Sci-Fi & Fantasy, Teen TV Shows'\n",
            " 'Anime Features, International Movies, Sci-Fi & Fantasy'\n",
            " 'Dramas, Independent Movies, Music & Musicals'\n",
            " \"Kids' TV, TV Comedies, TV Dramas\"\n",
            " 'Children & Family Movies, Documentaries, Sports Movies'\n",
            " 'Independent Movies, Sci-Fi & Fantasy, Thrillers'\n",
            " 'Anime Features, Music & Musicals, Sci-Fi & Fantasy'\n",
            " 'TV Comedies, TV Dramas, TV Sci-Fi & Fantasy'\n",
            " 'Crime TV Shows, TV Action & Adventure'\n",
            " 'Comedies, Faith & Spirituality, Romantic Movies'\n",
            " \"Kids' TV, TV Action & Adventure\"\n",
            " 'Action & Adventure, Independent Movies'\n",
            " 'International TV Shows, Reality TV, TV Comedies'\n",
            " 'Docuseries, Reality TV, Teen TV Shows'\n",
            " 'Crime TV Shows, International TV Shows, Reality TV'\n",
            " 'Anime Series, Teen TV Shows'\n",
            " 'Crime TV Shows, Romantic TV Shows, TV Dramas'\n",
            " 'Anime Features, Romantic Movies'\n",
            " 'Horror Movies, Sci-Fi & Fantasy, Thrillers'\n",
            " 'International TV Shows, TV Comedies, TV Sci-Fi & Fantasy'\n",
            " 'International TV Shows, Romantic TV Shows'\n",
            " 'Anime Features, Music & Musicals'\n",
            " 'Anime Features, International Movies, Romantic Movies'\n",
            " 'International TV Shows, Romantic TV Shows, Teen TV Shows'\n",
            " 'Docuseries, Stand-Up Comedy & Talk Shows'\n",
            " 'Horror Movies, Independent Movies, Thrillers'\n",
            " 'TV Action & Adventure, TV Comedies, TV Horror'\n",
            " 'Documentaries, Stand-Up Comedy' \"Kids' TV, Spanish-Language TV Shows\"\n",
            " \"British TV Shows, Kids' TV, TV Thrillers\"\n",
            " \"Kids' TV, TV Action & Adventure, TV Dramas\"\n",
            " 'Anime Series, Crime TV Shows' 'Dramas, Sci-Fi & Fantasy, Thrillers'\n",
            " 'TV Comedies, TV Dramas, TV Horror'\n",
            " 'Children & Family Movies, Comedies, LGBTQ Movies'\n",
            " 'International TV Shows, TV Action & Adventure, TV Sci-Fi & Fantasy'\n",
            " 'Docuseries, TV Dramas'\n",
            " 'Horror Movies, International Movies, Romantic Movies'\n",
            " 'Crime TV Shows, Docuseries, Science & Nature TV'\n",
            " 'International Movies, Music & Musicals, Thrillers'\n",
            " \"Kids' TV, Spanish-Language TV Shows, Teen TV Shows\"\n",
            " 'Comedies, Horror Movies, Independent Movies'\n",
            " 'Action & Adventure, International Movies, Sports Movies'\n",
            " 'Action & Adventure, Independent Movies, Sci-Fi & Fantasy'\n",
            " 'Horror Movies, LGBTQ Movies, Music & Musicals'\n",
            " 'Comedies, Music & Musicals, Sports Movies'\n",
            " 'TV Horror, TV Mysteries, Teen TV Shows' 'Romantic TV Shows, TV Comedies'\n",
            " \"Kids' TV, Reality TV, Science & Nature TV\"\n",
            " 'International Movies, Romantic Movies, Sci-Fi & Fantasy'\n",
            " 'TV Comedies, TV Horror, TV Thrillers' 'TV Action & Adventure'\n",
            " 'International TV Shows, Spanish-Language TV Shows, TV Horror'\n",
            " 'Crime TV Shows, TV Action & Adventure, TV Thrillers'\n",
            " 'Music & Musicals, Stand-Up Comedy' 'British TV Shows, TV Comedies'\n",
            " 'TV Comedies, TV Sci-Fi & Fantasy, Teen TV Shows'\n",
            " 'TV Comedies, TV Sci-Fi & Fantasy'\n",
            " 'Romantic TV Shows, Spanish-Language TV Shows, TV Comedies'\n",
            " 'Crime TV Shows, International TV Shows, TV Sci-Fi & Fantasy'\n",
            " 'British TV Shows, International TV Shows, Romantic TV Shows'\n",
            " \"Crime TV Shows, Kids' TV\"\n",
            " 'Horror Movies, International Movies, Sci-Fi & Fantasy'\n",
            " 'TV Comedies, TV Mysteries'\n",
            " 'Cult Movies, Horror Movies, Independent Movies'\n",
            " 'British TV Shows, Docuseries, TV Comedies' 'Comedies, Documentaries'\n",
            " 'Reality TV, Science & Nature TV, TV Action & Adventure'\n",
            " 'TV Comedies, TV Dramas, TV Mysteries'\n",
            " 'Crime TV Shows, TV Comedies, Teen TV Shows'\n",
            " \"Docuseries, Kids' TV, Science & Nature TV\"\n",
            " 'Reality TV, Spanish-Language TV Shows'\n",
            " 'Action & Adventure, Anime Features, Sci-Fi & Fantasy'\n",
            " \"Crime TV Shows, Kids' TV, TV Comedies\"\n",
            " 'Dramas, Faith & Spirituality, Independent Movies'\n",
            " 'Documentaries, Faith & Spirituality'\n",
            " 'British TV Shows, International TV Shows, Stand-Up Comedy & Talk Shows'\n",
            " 'Comedies, Dramas, Faith & Spirituality' 'Classic & Cult TV, TV Comedies'\n",
            " 'Dramas, Romantic Movies, Sports Movies'\n",
            " 'Stand-Up Comedy & Talk Shows, TV Mysteries, TV Sci-Fi & Fantasy'\n",
            " 'TV Sci-Fi & Fantasy, TV Thrillers'\n",
            " 'Comedies, Independent Movies, Music & Musicals'\n",
            " 'Comedies, Cult Movies, Independent Movies'\n",
            " 'Documentaries, Dramas, International Movies'\n",
            " 'British TV Shows, TV Horror, TV Thrillers'\n",
            " 'British TV Shows, Docuseries, Science & Nature TV'\n",
            " 'Children & Family Movies, Comedies, Cult Movies' 'Sports Movies'\n",
            " 'Sci-Fi & Fantasy' 'Comedies, LGBTQ Movies'\n",
            " 'Comedies, Independent Movies, Thrillers'\n",
            " 'Classic Movies, Cult Movies, Dramas'\n",
            " 'British TV Shows, TV Comedies, TV Dramas'\n",
            " 'Action & Adventure, Children & Family Movies, Independent Movies'\n",
            " 'Action & Adventure, Documentaries, International Movies'\n",
            " 'Children & Family Movies, Independent Movies'\n",
            " 'Comedies, Cult Movies, Dramas'\n",
            " 'International TV Shows, TV Horror, TV Thrillers'\n",
            " 'Classic Movies, Thrillers' 'Crime TV Shows, TV Dramas, TV Horror'\n",
            " 'British TV Shows, Docuseries, Reality TV'\n",
            " 'Documentaries, LGBTQ Movies, Music & Musicals'\n",
            " 'Classic Movies, Dramas, Romantic Movies'\n",
            " 'Crime TV Shows, Romantic TV Shows, Spanish-Language TV Shows'\n",
            " 'Classic Movies, Cult Movies, Horror Movies'\n",
            " 'Anime Series, Crime TV Shows, TV Thrillers'\n",
            " 'Children & Family Movies, Classic Movies'\n",
            " 'Classic Movies, Comedies, International Movies'\n",
            " 'Comedies, Sci-Fi & Fantasy' 'Action & Adventure, Cult Movies, Dramas'\n",
            " 'Documentaries, Faith & Spirituality, Music & Musicals'\n",
            " 'British TV Shows, Classic & Cult TV, TV Comedies'\n",
            " 'International Movies, Sports Movies' 'International TV Shows'\n",
            " \"Classic & Cult TV, Kids' TV, Spanish-Language TV Shows\"\n",
            " 'Romantic TV Shows, Spanish-Language TV Shows, TV Dramas'\n",
            " 'Children & Family Movies, Comedies, Faith & Spirituality'\n",
            " 'British TV Shows, Crime TV Shows, TV Dramas'\n",
            " 'Classic Movies, Dramas, Music & Musicals'\n",
            " 'Cult Movies, Horror Movies, Thrillers'\n",
            " 'Action & Adventure, Classic Movies, Sci-Fi & Fantasy'\n",
            " 'TV Action & Adventure, TV Comedies'\n",
            " 'Classic Movies, Comedies, Music & Musicals' 'Independent Movies'\n",
            " 'Documentaries, Horror Movies'\n",
            " 'Classic & Cult TV, TV Horror, TV Mysteries'\n",
            " 'Comedies, Faith & Spirituality, International Movies'\n",
            " 'Dramas, Horror Movies, Sci-Fi & Fantasy'\n",
            " 'British TV Shows, TV Dramas, TV Sci-Fi & Fantasy'\n",
            " 'Comedies, Cult Movies, Horror Movies'\n",
            " 'Comedies, Cult Movies, Sports Movies' 'Classic Movies, Documentaries'\n",
            " 'Action & Adventure, Faith & Spirituality, Sci-Fi & Fantasy'\n",
            " 'Action & Adventure, Children & Family Movies'\n",
            " 'International TV Shows, Reality TV, TV Action & Adventure'\n",
            " 'Docuseries, Science & Nature TV, TV Dramas' 'Anime Features'\n",
            " 'Action & Adventure, Horror Movies, Independent Movies'\n",
            " 'Action & Adventure, Classic Movies, International Movies'\n",
            " 'Cult Movies, Independent Movies, Thrillers'\n",
            " 'Crime TV Shows, TV Comedies'\n",
            " 'Classic Movies, Cult Movies, Documentaries'\n",
            " \"Classic & Cult TV, Kids' TV, TV Comedies\"\n",
            " 'Classic Movies, Dramas, LGBTQ Movies'\n",
            " 'Classic Movies, Dramas, Sports Movies' 'Action & Adventure, Cult Movies'\n",
            " 'Action & Adventure, Comedies, Music & Musicals'\n",
            " 'Classic Movies, Horror Movies, Thrillers'\n",
            " 'Classic Movies, Comedies, Independent Movies'\n",
            " 'Children & Family Movies, Classic Movies, Dramas'\n",
            " 'Dramas, Faith & Spirituality, Sports Movies'\n",
            " 'Classic Movies, Comedies, Romantic Movies'\n",
            " 'Dramas, Horror Movies, Music & Musicals'\n",
            " 'Classic Movies, Independent Movies, Thrillers'\n",
            " 'Children & Family Movies, Faith & Spirituality'\n",
            " 'Classic Movies, Comedies, Sports Movies'\n",
            " 'Comedies, Dramas, Sports Movies'\n",
            " 'Action & Adventure, Romantic Movies, Sci-Fi & Fantasy'\n",
            " 'Classic & Cult TV, TV Sci-Fi & Fantasy'\n",
            " 'Comedies, Cult Movies, LGBTQ Movies'\n",
            " 'Comedies, Horror Movies, Sci-Fi & Fantasy'\n",
            " 'Action & Adventure, Comedies, Horror Movies'\n",
            " 'Classic & Cult TV, Crime TV Shows, TV Dramas'\n",
            " 'Action & Adventure, Documentaries, Sports Movies'\n",
            " 'International Movies, LGBTQ Movies, Romantic Movies'\n",
            " 'Cult Movies, Dramas, Thrillers']\n",
            "\n",
            "Insight: The diversity of genres on Netflix includes a wide range from classic movies to international TV shows, catering to varied viewer preferences.\n"
          ]
        }
      ]
    },
    {
      "cell_type": "code",
      "source": [
        "# Unique release years\n",
        "unique_release_years = data['release_year'].unique()\n",
        "print(\"\\nUnique Release Years:\\n\", unique_release_years)\n",
        "print(\"\\nInsight: The dataset spans from as early as 1925 to recent years, reflecting Netflix's collection of both classic and contemporary content.\")"
      ],
      "metadata": {
        "colab": {
          "base_uri": "https://localhost:8080/"
        },
        "id": "z7dG_hw0Nnuf",
        "outputId": "d8cccd6b-1cea-4b3d-91b0-2589b8a33d8d"
      },
      "execution_count": null,
      "outputs": [
        {
          "output_type": "stream",
          "name": "stdout",
          "text": [
            "\n",
            "Unique Release Years:\n",
            " [2020 2021 1993 2018 1996 1998 1997 2010 2013 2017 1975 1978 1983 1987\n",
            " 2012 2001 2014 2002 2003 2004 2011 2008 2009 2007 2005 2006 1994 2015\n",
            " 2019 2016 1982 1989 1990 1991 1999 1986 1992 1984 1980 1961 2000 1995\n",
            " 1985 1976 1959 1988 1981 1972 1964 1945 1954 1979 1958 1956 1963 1970\n",
            " 1973 1925 1974 1960 1966 1971 1962 1969 1977 1967 1968 1965 1946 1942\n",
            " 1955 1944 1947 1943]\n",
            "\n",
            "Insight: The dataset spans from as early as 1925 to recent years, reflecting Netflix's collection of both classic and contemporary content.\n"
          ]
        }
      ]
    },
    {
      "cell_type": "markdown",
      "source": [
        "## **Visual Analysis**"
      ],
      "metadata": {
        "id": "mR2Rhro6OwHJ"
      }
    },
    {
      "cell_type": "markdown",
      "source": [
        "## **Univariate Analysis**"
      ],
      "metadata": {
        "id": "TGA_DZ4VOzKY"
      }
    },
    {
      "cell_type": "markdown",
      "source": [
        "For continuous variables like release_year, duration, and potentially others (if any numerical data exists):\n",
        "\n",
        "Distplot: To visualize the distribution of continuous variables.\n",
        "Countplot: To visualize the distribution of categorical variables."
      ],
      "metadata": {
        "id": "5piSdNjSO4IP"
      }
    },
    {
      "cell_type": "code",
      "source": [
        "import matplotlib.pyplot as plt\n",
        "import seaborn as sns\n",
        "\n",
        "# Univariate analysis for continuous variables\n",
        "\n",
        "# Distplot for release_year\n",
        "plt.figure(figsize=(10, 6))\n",
        "sns.distplot(data['release_year'], bins=30, kde=False, color='blue')\n",
        "plt.title('Distribution of Release Years')\n",
        "plt.xlabel('Release Year')\n",
        "plt.ylabel('Frequency')\n",
        "plt.show()\n",
        "\n",
        "\n"
      ],
      "metadata": {
        "colab": {
          "base_uri": "https://localhost:8080/",
          "height": 800
        },
        "id": "Wv80ISIeO7T4",
        "outputId": "72d764d9-80f5-4e51-a661-d123f8b33f76"
      },
      "execution_count": null,
      "outputs": [
        {
          "output_type": "stream",
          "name": "stderr",
          "text": [
            "<ipython-input-79-1b862cfcc890>:8: UserWarning:\n",
            "\n",
            "\n",
            "\n",
            "`distplot` is a deprecated function and will be removed in seaborn v0.14.0.\n",
            "\n",
            "Please adapt your code to use either `displot` (a figure-level function with\n",
            "similar flexibility) or `histplot` (an axes-level function for histograms).\n",
            "\n",
            "For a guide to updating your code to use the new functions, please see\n",
            "https://gist.github.com/mwaskom/de44147ed2974457ad6372750bbe5751\n",
            "\n",
            "\n"
          ]
        },
        {
          "output_type": "display_data",
          "data": {
            "text/plain": [
              "<Figure size 1000x600 with 1 Axes>"
            ],
            "image/png": "[encoded data removed]"
          },
          "metadata": {}
        }
      ]
    },
    {
      "cell_type": "code",
      "source": [
        "# Distplot for duration (assuming it's numeric after preprocessing)\n",
        "# Convert 'duration' to numeric (assuming it's in minutes)\n",
        "# Clean 'duration' column and convert to numeric\n",
        "data['duration_cleaned'] = data['duration'].str.replace(' min', '')  # Remove 'min' suffix\n",
        "data['duration_cleaned'] = pd.to_numeric(data['duration_cleaned'], errors='coerce')  # Convert to numeric, coerce errors to NaN\n",
        "\n",
        "# Plotting the cleaned 'duration'\n",
        "plt.figure(figsize=(10, 6))\n",
        "sns.distplot(data['duration_cleaned'].dropna(), bins=30, kde=False, color='green')\n",
        "plt.title('Distribution of Duration')\n",
        "plt.xlabel('Duration (minutes)')\n",
        "plt.ylabel('Frequency')\n",
        "plt.show()"
      ],
      "metadata": {
        "colab": {
          "base_uri": "https://localhost:8080/",
          "height": 800
        },
        "id": "2xBWVtkPPPn2",
        "outputId": "503ce854-5ba8-432a-d617-2f10059b56a8"
      },
      "execution_count": null,
      "outputs": [
        {
          "output_type": "stream",
          "name": "stderr",
          "text": [
            "<ipython-input-80-f30a93f6dd70>:9: UserWarning:\n",
            "\n",
            "\n",
            "\n",
            "`distplot` is a deprecated function and will be removed in seaborn v0.14.0.\n",
            "\n",
            "Please adapt your code to use either `displot` (a figure-level function with\n",
            "similar flexibility) or `histplot` (an axes-level function for histograms).\n",
            "\n",
            "For a guide to updating your code to use the new functions, please see\n",
            "https://gist.github.com/mwaskom/de44147ed2974457ad6372750bbe5751\n",
            "\n",
            "\n"
          ]
        },
        {
          "output_type": "display_data",
          "data": {
            "text/plain": [
              "<Figure size 1000x600 with 1 Axes>"
            ],
            "image/png": "[encoded data removed]"
          },
          "metadata": {}
        }
      ]
    },
    {
      "cell_type": "markdown",
      "source": [
        "## **Bivariate Analysis**"
      ],
      "metadata": {
        "id": "xNgi8r6VPTG8"
      }
    },
    {
      "cell_type": "markdown",
      "source": [
        "**For bivariate analysis involving categorical variables:**"
      ],
      "metadata": {
        "id": "PSziwZIkPVsd"
      }
    },
    {
      "cell_type": "markdown",
      "source": [
        "**Boxplot: To visualize the distribution of a continuous variable across different categories.**"
      ],
      "metadata": {
        "id": "tTDSxL3yPXoN"
      }
    },
    {
      "cell_type": "code",
      "source": [
        "# Boxplot for duration vs. type (Movies vs. TV Shows)\n",
        "plt.figure(figsize=(10, 6))\n",
        "sns.boxplot(data=data, x='type', y='duration_cleaned', palette='pastel')\n",
        "plt.title('Distribution of Duration by Type')\n",
        "plt.xlabel('Type')\n",
        "plt.ylabel('Duration (minutes)')\n",
        "plt.show()\n",
        "\n"
      ],
      "metadata": {
        "colab": {
          "base_uri": "https://localhost:8080/",
          "height": 711
        },
        "id": "FMaOjd5EPe3O",
        "outputId": "0ced1ded-4565-43ed-d0f1-2e05b1703785"
      },
      "execution_count": null,
      "outputs": [
        {
          "output_type": "stream",
          "name": "stderr",
          "text": [
            "<ipython-input-82-7164c69b7d7b>:3: FutureWarning:\n",
            "\n",
            "\n",
            "\n",
            "Passing `palette` without assigning `hue` is deprecated and will be removed in v0.14.0. Assign the `x` variable to `hue` and set `legend=False` for the same effect.\n",
            "\n",
            "\n"
          ]
        },
        {
          "output_type": "display_data",
          "data": {
            "text/plain": [
              "<Figure size 1000x600 with 1 Axes>"
            ],
            "image/png": "[encoded data removed]"
          },
          "metadata": {}
        }
      ]
    },
    {
      "cell_type": "markdown",
      "source": [
        "## **4.3 Correlation Analysis**"
      ],
      "metadata": {
        "id": "RMyrOTOsPo3r"
      }
    },
    {
      "cell_type": "markdown",
      "source": [
        "For correlation analysis:\n",
        "\n",
        "\n",
        "*   Heatmap: To visualize pairwise correlations between numeric variables.\n",
        "\n",
        "*   Pairplot: To visualize pairwise relationships across the entire dataset.\n",
        "\n",
        "\n"
      ],
      "metadata": {
        "id": "3E8tTLxtPr0P"
      }
    },
    {
      "cell_type": "code",
      "source": [
        "# Correlation heatmap for numeric variables\n",
        "numeric_data = data.select_dtypes(include='number')\n",
        "plt.figure(figsize=(10, 8))\n",
        "sns.heatmap(numeric_data.corr(), annot=True, cmap='coolwarm', vmin=-1, vmax=1)\n",
        "plt.title('Correlation Heatmap')\n",
        "plt.show()\n",
        "\n"
      ],
      "metadata": {
        "colab": {
          "base_uri": "https://localhost:8080/",
          "height": 699
        },
        "id": "6uDOUJ3QPy6U",
        "outputId": "3c96298e-09ba-42f5-8e00-6d46d0793a30"
      },
      "execution_count": null,
      "outputs": [
        {
          "output_type": "display_data",
          "data": {
            "text/plain": [
              "<Figure size 1000x800 with 2 Axes>"
            ],
            "image/png": "[encoded data removed]"
          },
          "metadata": {}
        }
      ]
    },
    {
      "cell_type": "code",
      "source": [
        "# Pairplot for numeric variables\n",
        "sns.pairplot(data=numeric_data)\n",
        "plt.suptitle('Pairplot of Numeric Variables', y=1.02)\n",
        "plt.show()\n"
      ],
      "metadata": {
        "colab": {
          "base_uri": "https://localhost:8080/",
          "height": 535
        },
        "id": "RNUfTeDtP3Wd",
        "outputId": "c0c6302b-45b0-4a20-9714-c052e185b582"
      },
      "execution_count": null,
      "outputs": [
        {
          "output_type": "display_data",
          "data": {
            "text/plain": [
              "<Figure size 500x500 with 6 Axes>"
            ],
            "image/png": "[encoded data removed]"
          },
          "metadata": {}
        }
      ]
    },
    {
      "cell_type": "markdown",
      "source": [
        "# **Summary**:\n",
        "Distplot and Countplot provide insights into the distribution and counts of variables like release_year, duration, and type (Movies vs. TV Shows).\n",
        "Boxplot helps compare the distribution of duration across different types (Movies vs. TV Shows).\n",
        "Heatmap and Pairplot offer insights into correlations between numeric variables in the dataset."
      ],
      "metadata": {
        "id": "8oBUyPbSP7rK"
      }
    },
    {
      "cell_type": "markdown",
      "source": [
        "## **Missing Value Check**"
      ],
      "metadata": {
        "id": "5gqbiMSOQIPE"
      }
    },
    {
      "cell_type": "code",
      "source": [
        "# Check for missing values\n",
        "missing_values_summary = data.isnull().sum()\n",
        "print(\"Missing Values Summary:\\n\", missing_values_summary)\n"
      ],
      "metadata": {
        "colab": {
          "base_uri": "https://localhost:8080/"
        },
        "id": "1sg6IVgyQLZ5",
        "outputId": "ca88862d-651c-4b09-8fac-83897ad80c11"
      },
      "execution_count": null,
      "outputs": [
        {
          "output_type": "stream",
          "name": "stdout",
          "text": [
            "Missing Values Summary:\n",
            " show_id                0\n",
            "type                   0\n",
            "title                  0\n",
            "director            2634\n",
            "cast                 825\n",
            "country              831\n",
            "date_added            10\n",
            "release_year           0\n",
            "rating                 4\n",
            "duration               3\n",
            "listed_in              0\n",
            "description            0\n",
            "duration_cleaned    2679\n",
            "dtype: int64\n"
          ]
        }
      ]
    },
    {
      "cell_type": "markdown",
      "source": [
        "## **Outlier Check**\n",
        "For outlier detection, we can focus on numeric columns such as release_year and duration_cleaned:"
      ],
      "metadata": {
        "id": "gifUW1JIQN9q"
      }
    },
    {
      "cell_type": "code",
      "source": [
        "# Outlier detection for release_year\n",
        "plt.figure(figsize=(10, 6))\n",
        "sns.boxplot(x=data['release_year'], palette='pastel')\n",
        "plt.title('Boxplot of Release Year')\n",
        "plt.xlabel('Release Year')\n",
        "plt.show()\n",
        "\n"
      ],
      "metadata": {
        "colab": {
          "base_uri": "https://localhost:8080/",
          "height": 711
        },
        "id": "oWu_66flQQh7",
        "outputId": "c5934442-846b-45b4-f453-b4e72894a8bb"
      },
      "execution_count": null,
      "outputs": [
        {
          "output_type": "stream",
          "name": "stderr",
          "text": [
            "<ipython-input-88-c0daa974b39a>:3: FutureWarning:\n",
            "\n",
            "\n",
            "\n",
            "Passing `palette` without assigning `hue` is deprecated and will be removed in v0.14.0. Assign the `y` variable to `hue` and set `legend=False` for the same effect.\n",
            "\n",
            "\n"
          ]
        },
        {
          "output_type": "display_data",
          "data": {
            "text/plain": [
              "<Figure size 1000x600 with 1 Axes>"
            ],
            "image/png": "[encoded data removed]"
          },
          "metadata": {}
        }
      ]
    },
    {
      "cell_type": "code",
      "source": [
        "# Outlier detection for duration_cleaned (assuming it's numeric after preprocessing)\n",
        "plt.figure(figsize=(10, 6))\n",
        "sns.boxplot(x=data['duration_cleaned'], palette='pastel')\n",
        "plt.title('Boxplot of Duration')\n",
        "plt.xlabel('Duration (minutes)')\n",
        "plt.show()\n"
      ],
      "metadata": {
        "colab": {
          "base_uri": "https://localhost:8080/",
          "height": 711
        },
        "id": "OF0vbuQiQU-L",
        "outputId": "475ffdf5-2073-440d-e36d-0196b5cb51f3"
      },
      "execution_count": null,
      "outputs": [
        {
          "output_type": "stream",
          "name": "stderr",
          "text": [
            "<ipython-input-89-8c5fb0586198>:3: FutureWarning:\n",
            "\n",
            "\n",
            "\n",
            "Passing `palette` without assigning `hue` is deprecated and will be removed in v0.14.0. Assign the `y` variable to `hue` and set `legend=False` for the same effect.\n",
            "\n",
            "\n"
          ]
        },
        {
          "output_type": "display_data",
          "data": {
            "text/plain": [
              "<Figure size 1000x600 with 1 Axes>"
            ],
            "image/png": "[encoded data removed]"
          },
          "metadata": {}
        }
      ]
    },
    {
      "cell_type": "code",
      "source": [
        "data.release_year"
      ],
      "metadata": {
        "colab": {
          "base_uri": "https://localhost:8080/"
        },
        "id": "tSI9sQzfTLEH",
        "outputId": "771f6edb-e9ce-4d4f-a6c0-68602bd127a2"
      },
      "execution_count": null,
      "outputs": [
        {
          "output_type": "execute_result",
          "data": {
            "text/plain": [
              "0       2020\n",
              "1       2021\n",
              "2       2021\n",
              "3       2021\n",
              "4       2021\n",
              "        ... \n",
              "8802    2007\n",
              "8803    2018\n",
              "8804    2009\n",
              "8805    2006\n",
              "8806    2015\n",
              "Name: release_year, Length: 8807, dtype: int64"
            ]
          },
          "metadata": {},
          "execution_count": 64
        }
      ]
    },
    {
      "cell_type": "markdown",
      "source": [
        "## **Insights based on Non-Graphical and Visual Analysis**"
      ],
      "metadata": {
        "id": "1zzFqMcEQr8T"
      }
    },
    {
      "cell_type": "markdown",
      "source": [
        "# **Comments on the range of attributes**\n",
        "\n",
        "\n",
        "*   **Type**: The dataset primarily consists of two types of content: Movies and TV Shows.\n",
        "*   **Release Year:** Spans several decades, from as early as 1925 to recent years like 2021, indicating a wide range of content over time.\n",
        "\n",
        "\n",
        "*   **Country:** Shows a diverse range of production countries, with the United States leading significantly in the number of productions.\n",
        "\n",
        "*   **Rating:** Displays various content ratings, with 'TV-MA' being the most frequent, followed by 'TV-14' and others, catering to different audience demographics.\n",
        "*   **Duration:** After preprocessing, duration_cleaned shows a range of runtime durations for movies and number of seasons for TV shows.\n",
        "\n",
        "\n",
        "\n",
        "\n",
        "\n",
        "\n",
        "\n",
        "\n"
      ],
      "metadata": {
        "id": "4lUA8pmZQujA"
      }
    },
    {
      "cell_type": "markdown",
      "source": [
        "## **Comments on the distribution of the variables and relationship between them**\n",
        "\n",
        "\n",
        "*   **Type vs. Release Year:** Movies have a wider distribution across different release years compared to TV shows, indicating a longer history of movie production.\n",
        "*   **Type vs. Duration:** Movies generally have a shorter duration compared to TV shows, which can vary significantly based on the number of seasons.\n",
        "\n",
        "\n",
        "*  **Country vs. Type:** The distribution of content varies by country, with certain countries like the United States producing a large number of both movies and TV shows.\n",
        "\n",
        "\n",
        "\n",
        "\n",
        "\n"
      ],
      "metadata": {
        "id": "CDcaME3-RAZG"
      }
    },
    {
      "cell_type": "markdown",
      "source": [
        "## **Comments for each univariate and bivariate plot**"
      ],
      "metadata": {
        "id": "KNFCqBUJRTUh"
      }
    },
    {
      "cell_type": "markdown",
      "source": [
        "# **Univariate Analysis:**\n",
        "\n",
        "*   **Release Year**: The boxplot shows a spread of release years, with potential outliers in older movies.\n",
        "*   **Duration**: The boxplot for duration_cleaned indicates variability in runtime for movies and number of seasons for TV shows.\n",
        "\n",
        "\n",
        "*   **Type**: The count plot reveals a higher count of movies compared to TV shows in the dataset.\n",
        "*   **Rating**: The value counts display the distribution of content ratings, with 'TV-MA' being the most frequent.\n",
        "\n",
        "\n",
        "\n",
        "\n",
        "\n",
        "\n",
        "\n",
        "\n"
      ],
      "metadata": {
        "id": "I3FVl1FKRWxr"
      }
    },
    {
      "cell_type": "markdown",
      "source": [
        "#**Bivariate Analysis:**\n",
        "\n",
        "\n",
        "*   **Type vs. Duration:** The boxplot shows that TV shows generally have longer durations (in terms of seasons) compared to movies.\n",
        "*   **Country vs. Type:** There's a clear distribution of content types across different countries, with movies and TV shows having varying popularity in different regions.\n",
        "\n",
        "\n",
        "*   **Release Year vs. Type:** The boxplot highlights differences in the distribution of release years between movies and TV shows, reflecting evolving trends in content production over time.\n"
      ],
      "metadata": {
        "id": "Umr10gaCSEpY"
      }
    },
    {
      "cell_type": "markdown",
      "source": [
        "## **Business Insights**"
      ],
      "metadata": {
        "id": "WIv-5QM9SOCW"
      }
    },
    {
      "cell_type": "markdown",
      "source": [
        "\n",
        "\n",
        "1. **Content Diversity**:\n",
        "   - The dataset reflects a diverse range of genres and content types, indicating Netflix's commitment to catering to varied viewer preferences globally.\n",
        "\n",
        "2. **Regional Preferences**:\n",
        "   - Analysis shows significant content production in the United States, India, and the United Kingdom. This underscores Netflix's strategy to localize content to appeal to regional audiences.\n",
        "\n",
        "3. **Impact of Ratings**:\n",
        "   - Content rated 'TV-MA' and 'TV-14' are predominant, suggesting a focus on mature and teen audiences. This aligns with Netflix's strategy to target specific demographic groups effectively.\n",
        "\n",
        "4. **Director and Cast Influence**:\n",
        "   - High counts of certain directors and cast members indicate their influence on viewer engagement. Collaborating further with popular talent could enhance Netflix's content attractiveness.\n",
        "\n",
        "5. **Release Year Trends**:\n",
        "   - Recent years show a surge in content production, indicating Netflix's ongoing commitment to expanding its content library to meet growing viewer demand.\n",
        "\n",
        "6. **Genre Popularity**:\n",
        "   - Genres such as Drama, Comedy, and International Movies are consistently popular across different regions, presenting opportunities for strategic content investment.\n",
        "\n",
        "7. **Viewer Engagement**:\n",
        "   - High viewer engagement with certain genres and content types suggests potential areas for targeted marketing and promotion to maximize viewer retention.\n",
        "\n",
        "8. **Seasonal Release Strategy**:\n",
        "   - Timing content releases around holidays and seasonal trends could capitalize on increased viewer engagement during specific periods.\n",
        "\n",
        "9. **Competitive Landscape**:\n",
        "   - Understanding competitor strategies and industry trends can help Netflix maintain its competitive edge through differentiated content offerings.\n",
        "\n",
        "10. **Data-Driven Decision Making**:\n",
        "    - Leveraging data analytics for content recommendation and viewer behavior analysis can optimize decision-making processes, enhancing content relevance and viewer satisfaction.\n"
      ],
      "metadata": {
        "id": "X9EBeIe6SQkF"
      }
    },
    {
      "cell_type": "markdown",
      "source": [
        "## **Recommendations**\n",
        "\n",
        "1. **Diversify Content Portfolio**:\n",
        "   - **Action**: Continue to invest in a diverse range of content, including popular genres like Drama, Comedy, and International Movies, while exploring opportunities in niche genres.\n",
        "   \n",
        "2. **Strengthen Regional Content**:\n",
        "   - **Action**: Increase investment in local content production tailored to regional preferences, particularly in high-growth markets like India and South Korea.\n",
        "\n",
        "3. **Collaborate with Influential Directors and Actors**:\n",
        "   - **Action**: Forge partnerships with popular directors and actors to produce compelling Netflix originals that leverage their fan base and credibility.\n",
        "\n",
        "4. **Optimize Content Release Strategy**:\n",
        "   - **Action**: Utilize data-driven insights to strategically time the release of new content based on seasonal trends, viewer behavior patterns, and historical data.\n",
        "\n",
        "5. **Enhance Viewer Engagement with High-Rating Content**:\n",
        "   - **Action**: Focus on producing content with high ratings such as 'TV-MA' and 'TV-14' to cater to specific demographic preferences and enhance viewer engagement.\n",
        "\n",
        "6. **Curate a Mix of Classic and Contemporary Content**:\n",
        "   - **Action**: Balance the content library with both classic and contemporary titles to appeal to a broad audience, catering to nostalgia and current interests.\n",
        "\n",
        "7. **Invest in Long-Form and Short-Form Content**:\n",
        "   - **Action**: Maintain a balance between TV shows (long-form content) and movies (short-form content) to accommodate diverse viewer preferences for content consumption.\n",
        "\n",
        "8. **Monitor and Respond to Emerging Trends**:\n",
        "   - **Action**: Stay agile and responsive to emerging content consumption trends and viewer preferences, adapting content strategy accordingly.\n",
        "\n",
        "9. **Improve Content Discovery and Recommendation Systems**:\n",
        "   - **Action**: Enhance algorithms for content discovery and personalized recommendations to improve user experience and increase viewer retention.\n",
        "\n",
        "10. **Expand Partnerships and Licensing Agreements**:\n",
        "    - **Action**: Strengthen partnerships and licensing agreements with studios and production houses globally to secure a steady pipeline of high-quality content.\n"
      ],
      "metadata": {
        "id": "ZehAjqFuTwzL"
      }
    }
  ]
}